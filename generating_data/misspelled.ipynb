{
 "cells": [
  {
   "cell_type": "code",
   "execution_count": 212,
   "id": "2c7fd86b",
   "metadata": {},
   "outputs": [],
   "source": [
    "import numpy as np\n",
    "import pandas as pd\n",
    "\n",
    "import matplotlib.pyplot as plt\n",
    "%matplotlib inline"
   ]
  },
  {
   "cell_type": "code",
   "execution_count": 213,
   "id": "256e2070",
   "metadata": {},
   "outputs": [],
   "source": [
    "all_misspelled_requests = []"
   ]
  },
  {
   "cell_type": "code",
   "execution_count": 214,
   "id": "ef269941",
   "metadata": {},
   "outputs": [],
   "source": [
    "def request_constructor(not_normalized_requests, query_slot):\n",
    "    for par in range(len(not_normalized_requests)):\n",
    "        sent = not_normalized_requests[par].split()\n",
    "        try:\n",
    "            idx_slot = [idx for idx in range(len(sent)) if query_slot in sent[idx]][0]\n",
    "        except IndexError:\n",
    "            print(par)\n",
    "        \n",
    "        idx_without_colon = [idx for idx in range(len(sent)) if ':' not in sent[idx]][:-2]\n",
    "        slot = sent[idx_slot].split('-')[-1]\n",
    "\n",
    "        if len(idx_without_colon):\n",
    "            for i in range(idx_without_colon[0], idx_slot + 1):\n",
    "                if i == idx_without_colon[0]:\n",
    "                    sent[i] = sent[i] + ':B-' + slot\n",
    "                else:\n",
    "                    sent[i] = sent[i].split(':')[0] + ':I-' + slot\n",
    "\n",
    "            not_normalized_requests[par] = ' '.join(sent)\n",
    "            \n",
    "    return not_normalized_requests"
   ]
  },
  {
   "cell_type": "markdown",
   "id": "5501ddba",
   "metadata": {},
   "source": [
    "# product_conditions"
   ]
  },
  {
   "cell_type": "code",
   "execution_count": 215,
   "id": "8a7b61d1",
   "metadata": {},
   "outputs": [],
   "source": [
    "all_product_conditions = []"
   ]
  },
  {
   "cell_type": "markdown",
   "id": "928c95f6",
   "metadata": {},
   "source": [
    "### loan"
   ]
  },
  {
   "cell_type": "code",
   "execution_count": 216,
   "id": "5a9cf393",
   "metadata": {},
   "outputs": [],
   "source": [
    "loan_product_conditions = []\n",
    "\n",
    "# All loan\n",
    "loan = ['Хадгаламж барицаалсан', 'Хадгаламж барцаалсан']"
   ]
  },
  {
   "cell_type": "code",
   "execution_count": 217,
   "id": "9a28d978",
   "metadata": {},
   "outputs": [],
   "source": [
    "loan_samples_all = [\n",
    "    'SLOT:B-loan зээл:O авахад:B-action урьдчилгаа:B-condition төлбөр:I-condition гэж:O байдаг:O уу:O <=> product_conditions',\n",
    "    'SLOT:B-loan зээл:O авахад:B-action урьдчилгаа:B-condition төлбөртэй:I-condition юу:O <=> product_conditions',\n",
    "    'SLOT:B-loan зээл:O авахад:B-action урьдчилгаа:B-condition төлбөр:I-condition гэж:O байдаг:O уу:O мэдээлэл:O авмаар:B-action байна:O <=> product_conditions',\n",
    "    'SLOT:B-loan зээл:O авахад:B-action урьдчилгаа:B-condition төлбөр:I-condition гэж:O байдаг:O уу:O хэд:B-question_type вэ:O <=> product_conditions',\n",
    "]"
   ]
  },
  {
   "cell_type": "code",
   "execution_count": 218,
   "id": "c1fec867",
   "metadata": {},
   "outputs": [
    {
     "data": {
      "text/plain": [
       "8"
      ]
     },
     "execution_count": 218,
     "metadata": {},
     "output_type": "execute_result"
    }
   ],
   "source": [
    "for word in loan:\n",
    "    loan_product_conditions += [sent.replace('SLOT', word).strip() for sent in loan_samples_all]\n",
    "    \n",
    "loan_product_conditions = list(set(loan_product_conditions))\n",
    "\n",
    "loan_product_conditions = request_constructor(loan_product_conditions, 'B-loan')\n",
    "len(loan_product_conditions)"
   ]
  },
  {
   "cell_type": "markdown",
   "id": "2b464ebd",
   "metadata": {},
   "source": [
    "### card"
   ]
  },
  {
   "cell_type": "code",
   "execution_count": 219,
   "id": "804b83be",
   "metadata": {},
   "outputs": [],
   "source": [
    "card_product_conditions = []\n",
    "\n",
    "# Жилийн хураамж, зээлийн дээд/доод хэмжээ\n",
    "card_1 = [\n",
    "    'Алтан Крэдит', \n",
    "          \n",
    "    'Американ экспрэсс', 'Амэрикан экспресс', 'Амэрикан экспрэсс', 'Америк экспресс', \n",
    "    'Америк экспрэсс', 'Амэрик экспресс', 'Амэрикан экспрэсс',\n",
    "    'Американ экспрэс', 'Амэрикан экспрес', 'Амэрикан экспрэс', 'Америк экспрес', \n",
    "    'Америк экспрэс', 'Амэрик экспрес', 'Амэрикан экспрэс',\n",
    "\n",
    "    'Амэрикан экспресс ногоон', 'Амэрикан экспрэсс ногоон', 'Америк экспресс ногоон', \n",
    "    'Америк экспрэсс ногоон', 'Амэрик экспресс ногоон', 'Амэрикан экспрэсс ногоон',\n",
    "    'Амэрикан экспрес ногоон', 'Амэрикан экспрэс ногоон', 'Америк экспрес ногоон', \n",
    "    'Америк экспрэс ногоон', 'Амэрик экспрес ногоон', 'Амэрикан экспрэс ногоон',\n",
    "\n",
    "    'Амэрикан экспресс алтан', 'Амэрикан экспрэсс алтан', 'Америк экспресс алтан', \n",
    "    'Америк экспрэсс алтан', 'Амэрик экспресс алтан', 'Амэрикан экспрэсс алтан',\n",
    "    'Амэрикан экспрес алтан', 'Амэрикан экспрэс алтан', 'Америк экспрес алтан', \n",
    "    'Америк экспрэс алтан', 'Амэрик экспрес алтан', 'Амэрикан экспрэс алтан',        \n",
    "]\n",
    "\n",
    "# Вальют, хүчинтэй хугацаа, эрх\n",
    "card_2 = card_1 + ['Колр']\n",
    "\n",
    "# Захиалах үнэ\n",
    "card_3 = [\n",
    "    'Амэрикан экспресс рэвардс', 'Амэрикан экспрэсс рэвардс', 'Америк экспресс рэвардс', \n",
    "    'Америк экспрэсс рэвардс', 'Амэрик экспресс рэвардс', 'Амэрикан экспрэсс рэвардс',\n",
    "    'Амэрикан экспрес рэвардс', 'Амэрикан экспрэс рэвардс', 'Америк экспрес рэвардс', \n",
    "    'Америк экспрэс рэвардс', 'Амэрик экспрес рэвардс', 'Амэрикан экспрэс рэвардс',\n",
    "    \n",
    "    'Колр',\n",
    "]\n",
    "\n",
    "# Өдөрт гаргах бэлэн/бэлэн бус гүйлгээний лимит, эргэн төлөх доод хэмжээ\n",
    "# эргэн төлөлт хийгээгүй тохиолдолд карт хаагдах хугацаа\n",
    "card_4 = card_1"
   ]
  },
  {
   "cell_type": "code",
   "execution_count": 220,
   "id": "f714f16d",
   "metadata": {},
   "outputs": [],
   "source": [
    "card_samples_1 = [\n",
    "    'SLOT:B-card картны:O жилийн:B-condition хураамж:I-condition хэд:B-question_type вэ:O <=> product_conditions',\n",
    "    'SLOT:B-card картны:O жилийн:B-condition хураамж:I-condition хэдтэй:B-question_type байгаа:O вэ:O <=> product_conditions',\n",
    "    'SLOT:B-card картны:O жилийн:B-condition хураамж:I-condition хэд:B-question_type байгааг:O хэлээд:B-action өгөөч:I-action <=> product_conditions',\n",
    "    'SLOT:B-card картны:O жилийн:B-condition хураамж:I-condition хэд:B-question_type байгааг:O хараад:B-action өгч:I-action болох:O уу:O <=> product_conditions',\n",
    "    \n",
    "    'SLOT:B-card картны:O зээлийн:B-condition дээд:I-condition хэмжээ:I-condition хэд:B-question_type вэ:O <=> product_conditions',\n",
    "    'SLOT:B-card картны:O зээлийн:B-condition дээд:I-condition хэмжээ:I-condition хэдтэй:B-question_type байгаа:O вэ:O <=> product_conditions',\n",
    "    'SLOT:B-card картны:O зээлийн:B-condition дээд:I-condition хэмжээ:I-condition хэд:B-question_type байгааг:O хэлээд:B-action өгөөч:I-action <=> product_conditions',\n",
    "    'SLOT:B-card картны:O зээлийн:B-condition дээд:I-condition хэмжээ:I-condition хэд:B-question_type байгааг:O хараад:B-action өгч:I-action болох:O уу:O <=> product_conditions',\n",
    "    \n",
    "    'SLOT:B-card картны:O зээлийн:B-condition доод:I-condition хэмжээ:I-condition хэд:B-question_type вэ:O <=> product_conditions',\n",
    "    'SLOT:B-card картны:O зээлийн:B-condition доод:I-condition хэмжээ:I-condition хэдтэй:B-question_type байгаа:O вэ:O <=> product_conditions',\n",
    "    'SLOT:B-card картны:O зээлийн:B-condition доод:I-condition хэмжээ:I-condition хэд:B-question_type байгааг:O хэлээд:B-action өгөөч:I-action <=> product_conditions',\n",
    "    'SLOT:B-card картны:O зээлийн:B-condition доод:I-condition хэмжээ:I-condition хэд:B-question_type байгааг:O хараад:B-action өгч:I-action болох:O уу:O <=> product_conditions',\n",
    "]\n",
    "\n",
    "card_samples_2 = [\n",
    "    'SLOT:B-card картыг:O ямар:B-question_type вальюттай:B-condition нээж:B-action болох:O вэ:O <=> product_conditions',\n",
    "    'SLOT:B-card картыг:O ямар:B-question_type вальюттай:B-condition захиалж:B-action болох:O вэ:O <=> product_conditions',\n",
    "    'SLOT:B-card картыг:O долларын:B-currency вальюттай:B-condition нээж:B-action болох:O уу:O <=> product_conditions',\n",
    "    'SLOT:B-card картыг:O долларын:B-currency вальюттай:B-condition захиалж:B-action болох:O уу:O <=> product_conditions',\n",
    "    'SLOT:B-card картыг:O доллараар:B-currency нээж:B-action болох:O уу:O <=> product_conditions',\n",
    "    'SLOT:B-card картыг:O доллараар:B-currency захиалж:B-action болох:O уу:O <=> product_conditions',\n",
    "    \n",
    "    'SLOT:B-card картыг:O ямар:B-question_type вальютуудаар:B-condition захиалж:B-action болдог:O вэ:O <=> product_conditions',\n",
    "    \n",
    "    'SLOT:B-card картны:O хүчинтэй:B-condition хугацаа:I-condition нь:O юу:B-question_type вэ:O <=> product_conditions',\n",
    "    'SLOT:B-card картны:O хүчинтэй:B-condition хугацаа:I-condition нь:O хэдэн:B-question_type жил:O вэ:O <=> product_conditions',\n",
    "    'SLOT:B-card карт:O хэр:B-question_type удаан:O хүчинтэй:B-condition вэ:O <=> product_conditions',\n",
    "    \n",
    "    'Энэ:O SLOT:B-card карт:O ямар:B-question_type эрхтэй:B-condition вэ:O <=> product_conditions',\n",
    "    'Энэ:O SLOT:B-card картыг:O би:O дотоодод:B-condition ашиглаж:B-action болох:O уу:O <=> product_conditions',\n",
    "    'Энэ:O SLOT:B-card картыг:O би:O олон:B-condition улсад:I-condition ашиглаж:B-action болох:O уу:O <=> product_conditions',\n",
    "    'Энэ:O SLOT:B-card картыг:O би:O гадаадад:B-condition ашиглаж:B-action болох:O уу:O <=> product_conditions',\n",
    "    'Энэ:O SLOT:B-card картыг:O би:O дотоодоос:B-condition гадна:I-condition ашиглаж:B-action болох:O уу:O <=> product_conditions',\n",
    "]\n",
    "\n",
    "card_samples_3 = [\n",
    "    'SLOT:B-card картны:O үнэ:B-condition хэд:B-question_type вэ:O <=> product_conditions',\n",
    "    'SLOT:B-card картыг:O захиалахад:B-action хэд:B-question_type вэ:O <=> product_conditions',\n",
    "    'SLOT:B-card картыг:O захиалмаар:B-action байна:O хэдээр:B-question_type авах:B-action вэ:O <=> product_conditions',\n",
    "    'SLOT:B-card картыг:O захиалмаар:B-action байна:O хэдээр:B-question_type нээх:B-action вэ:O <=> product_conditions',\n",
    "    'SLOT:B-card картыг:O захиалмаар:B-action байна:O хэд:B-question_type болох:O уу:O <=> product_conditions',\n",
    "    'SLOT:B-card картыг:O захиалахад:B-action хэдийг:B-question_type төлөх:B-action үү:O <=> product_conditions',\n",
    "    \n",
    "    \n",
    "    'SLOT:B-card картыг:O нээхэд:B-action хэд:B-question_type вэ:O <=> product_conditions',\n",
    "    'SLOT:B-card картыг:O нээлгэмээр:B-action байна:O хэдээр:B-question_type нээх:B-action үү:O <=> product_conditions',\n",
    "    'SLOT:B-card картыг:O нээлгэмээр:B-action байна:O хэд:B-question_type болох:O уу:O <=> product_conditions',\n",
    "    'SLOT:B-card картыг:O нээлгэхэд:B-action хэдийг:B-question_type төлөх:B-action үү:O <=> product_conditions',\n",
    "]\n",
    "\n",
    "card_samples_4 = [\n",
    "    'SLOT:B-card картны:O өдөрт:B-condition гаргах:I-condition бэлэн:I-condition гүйлгээний:I-condition лимит:I-condition хэд:B-question_type байна:O <=> product_conditions',\n",
    "    'SLOT:B-card картны:O өдөрт:B-condition гаргах:I-condition бэлэн:I-condition гүйлгээний:I-condition лимит:I-condition хэд:B-question_type байгааг:O хэлээд:B-action өгөөч:I-action <=> product_conditions',\n",
    "    'SLOT:B-card картны:O өдөрт:B-condition гаргах:I-condition бэлэн:I-condition гүйлгээний:I-condition лимит:I-condition хэд:B-question_type байгааг:O хараад:B-action өгч:O болохоор:O байна:O уу:O <=> product_conditions',\n",
    "    \n",
    "    'SLOT:B-card картны:O өдөрт:B-condition гаргах:I-condition бэлэн:I-condition бус:I-condition гүйлгээний:I-condition лимит:I-condition хэд:B-question_type байна:O <=> product_conditions',\n",
    "    'SLOT:B-card картны:O өдөрт:B-condition гаргах:I-condition бэлэн:I-condition бус:I-condition гүйлгээний:I-condition лимит:I-condition хэд:B-question_type байгааг:O хэлээд:B-action өгөөч:I-action <=> product_conditions',\n",
    "    'SLOT:B-card картны:O өдөрт:B-condition гаргах:I-condition бэлэн:I-condition бус:I-condition гүйлгээний:I-condition лимит:I-condition хэд:B-question_type байгааг:O хараад:B-action өгч:O болохоор:O байна:O уу:O <=> product_conditions',\n",
    "    \n",
    "    'Өдөрт:B-condition SLOT:B-card картаар:O гаргах:I-condition бэлэн:I-condition гүйлгээний:I-condition лимит:I-condition хэд:B-question_type байна:O <=> product_conditions',\n",
    "    'Өдөрт:B-condition SLOT:B-card картаар:O гаргах:I-condition бэлэн:I-condition гүйлгээний:I-condition лимит:I-condition хэд:B-question_type байгааг:O хэлээд:B-action өгөөч:I-action <=> product_conditions',\n",
    "    'Өдөрт:B-condition SLOT:B-card картаар:O гаргах:I-condition бэлэн:I-condition гүйлгээний:I-condition лимит:I-condition хэд:B-question_type байгааг:O хараад:B-action өгч:O болохоор:O байна:O уу:O <=> product_conditions',\n",
    "    \n",
    "    'Өдөрт:B-condition SLOT:B-card картаар:O гаргах:I-condition бэлэн:I-condition бус:I-condition гүйлгээний:I-condition лимит:I-condition хэд:B-question_type байна:O <=> product_conditions',\n",
    "    'Өдөрт:B-condition SLOT:B-card картаар:O гаргах:I-condition бэлэн:I-condition бус:I-condition гүйлгээний:I-condition лимит:I-condition хэд:B-question_type байгааг:O хэлээд:B-action өгөөч:I-action <=> product_conditions',\n",
    "    'Өдөрт:B-condition SLOT:B-card картаар:O гаргах:I-condition бэлэн:I-condition бус:I-condition гүйлгээний:I-condition лимит:I-condition хэд:B-question_type байгааг:O хараад:B-action өгч:O болохоор:O байна:O уу:O <=> product_conditions',\n",
    "    \n",
    "    'Танай:O SLOT:B-card картны:O эргэн:B-condition төлөх:I-condition доод:I-condition хэмжээ:I-condition нь:O хэд:B-question_type байна:O <=> product_conditions',\n",
    "    'Танай:O SLOT:B-card картны:O эргэн:B-condition төлөх:I-condition доод:I-condition хэмжээ:I-condition нь:O хэд:B-question_type байгааг:O хэлээд:B-action өгөөч:I-action <=> product_conditions',\n",
    "    'Танай:O SLOT:B-card картны:O эргэн:B-condition төлөх:I-condition доод:I-condition хэмжээ:I-condition нь:O хэд:B-question_type хараад:B-action өгч:O болохоор:O байна:O уу:O <=> product_conditions',\n",
    "    \n",
    "    'Би:O SLOT:B-card картныхаа:O эргэн:B-condition төлөлтөө:I-action хийгээгүй:B-action <=> product_conditions',\n",
    "    'Би:O SLOT:B-card картныхаа:O эргэн:B-condition төлөлтөө:I-action хийгээгүй:B-action байгаа:O бол:O миний:O карт:O яах:B-question_type уу:O <=> product_conditions',\n",
    "    'Би:O SLOT:B-card картныхаа:O эргэн:B-condition төлөлтөө:I-action хийгээгүй:B-action бол:O хэдийг:O төлөх:O үү:O <=> product_conditions',\n",
    "    'Би:O SLOT:B-card картныхаа:O эргэн:B-condition төлөлтөө:I-action хийгээгүй:B-action байгаа:O тэгээд:O одоо:O миний:O картыг:O хаачих:B-action уу:O <=> product_conditions',\n",
    "]"
   ]
  },
  {
   "cell_type": "code",
   "execution_count": 221,
   "id": "bc868e85",
   "metadata": {},
   "outputs": [
    {
     "data": {
      "text/plain": [
       "1643"
      ]
     },
     "execution_count": 221,
     "metadata": {},
     "output_type": "execute_result"
    }
   ],
   "source": [
    "for word in card_1:\n",
    "    card_product_conditions += [sent.replace('SLOT', word).strip() for sent in card_samples_1]\n",
    "\n",
    "for word in card_2:\n",
    "    card_product_conditions += [sent.replace('SLOT', word).strip() for sent in card_samples_2]\n",
    "    \n",
    "for word in card_3:\n",
    "    card_product_conditions += [sent.replace('SLOT', word).strip() for sent in card_samples_3]\n",
    "    \n",
    "for word in card_4:\n",
    "    card_product_conditions += [sent.replace('SLOT', word).strip() for sent in card_samples_4]\n",
    "    \n",
    "    \n",
    "card_product_conditions = list(set(card_product_conditions))\n",
    "\n",
    "card_product_conditions = request_constructor(card_product_conditions, 'B-card')\n",
    "len(card_product_conditions)"
   ]
  },
  {
   "cell_type": "code",
   "execution_count": 222,
   "id": "38b19758",
   "metadata": {},
   "outputs": [
    {
     "name": "stdout",
     "output_type": "stream",
     "text": [
      "All misspelled product conditions: 1651\n"
     ]
    }
   ],
   "source": [
    "all_product_conditions += loan_product_conditions + card_product_conditions\n",
    "print('All misspelled product conditions:', len(all_product_conditions))"
   ]
  },
  {
   "cell_type": "markdown",
   "id": "352ad8a0",
   "metadata": {},
   "source": [
    "# tutorials"
   ]
  },
  {
   "cell_type": "code",
   "execution_count": 223,
   "id": "318182fb",
   "metadata": {},
   "outputs": [],
   "source": [
    "all_tutorials = []"
   ]
  },
  {
   "cell_type": "markdown",
   "id": "842b3b59",
   "metadata": {},
   "source": [
    "### loan"
   ]
  },
  {
   "cell_type": "code",
   "execution_count": 224,
   "id": "f5b963de",
   "metadata": {},
   "outputs": [],
   "source": [
    "loan_tutorials = []"
   ]
  },
  {
   "cell_type": "code",
   "execution_count": 225,
   "id": "b581b781",
   "metadata": {},
   "outputs": [],
   "source": [
    "loan_samples_all = [\n",
    "    'SLOT:B-loan зээл:O авмаар:B-action байна:O яаж:B-question_type авах:O уу:O <=> tutorials',\n",
    "    'SLOT:B-loan зээл:O авмаар:B-action байна:O хаанаас:B-question_type мэдээлэл:O авах:B-action уу:O <=> tutorials',\n",
    "    'SLOT:B-loan зээл:O авахад:B-action ямар:B-question_type шаардлагууд:B-condition байгаа:O вэ:O <=> tutorials',\n",
    "    'SLOT:B-loan зээл:O авахад:B-action бүрдүүлэх:B-condition материалууд:I-condition гэж:O байгаа:O юу:O <=> tutorials',\n",
    "    'SLOT:B-loan зээл:O авмаар:B-action байна:O аа:O яах:B-question_type уу:O <=> tutorials',\n",
    "    \n",
    "    'SLOT:B-loan зээл:O авмаар:B-action байна:O яаж:B-question_type авах:O уу:O урьдчилгаа:B-condition төлбөртэй:I-condition юу:O <=> tutorials',\n",
    "    'SLOT:B-loan зээл:O авмаар:B-action байна:O хаанаас:B-question_type мэдээлэл:O авах:B-action уу:O урьдчилгаа:B-condition төлбөртэй:I-condition юу:O <=> tutorials',\n",
    "    'SLOT:B-loan зээл:O авахад:B-action ямар:B-question_type шаардлагууд:B-condition байгаа:O вэ:O урьдчилгаа:B-condition төлбөртэй:I-condition юу:O <=> tutorials',\n",
    "    'SLOT:B-loan зээл:O авахад:B-action бүрдүүлэх:B-condition материалууд:I-condition гэж:O байгаа:O юу:O урьдчилгаа:B-condition төлбөртэй:I-condition юу:O <=> tutorials',\n",
    "    'SLOT:B-loan зээл:O авмаар:B-action байна:O аа:O яах:B-question_type уу:O урьдчилгаа:B-condition төлбөртэй:I-condition юу:O <=> tutorials',\n",
    "]"
   ]
  },
  {
   "cell_type": "code",
   "execution_count": 226,
   "id": "501317c6",
   "metadata": {},
   "outputs": [
    {
     "data": {
      "text/plain": [
       "20"
      ]
     },
     "execution_count": 226,
     "metadata": {},
     "output_type": "execute_result"
    }
   ],
   "source": [
    "for word in loan:\n",
    "    loan_tutorials += [sent.replace('SLOT', word).strip() for sent in loan_samples_all]\n",
    "    \n",
    "loan_tutorials = list(set(loan_tutorials))\n",
    "\n",
    "loan_tutorials = request_constructor(loan_tutorials, 'B-loan')\n",
    "len(loan_tutorials)"
   ]
  },
  {
   "cell_type": "markdown",
   "id": "411bbc2f",
   "metadata": {},
   "source": [
    "### card"
   ]
  },
  {
   "cell_type": "code",
   "execution_count": 227,
   "id": "17e73bf4",
   "metadata": {},
   "outputs": [],
   "source": [
    "card_tutorials = []"
   ]
  },
  {
   "cell_type": "code",
   "execution_count": 228,
   "id": "b011824d",
   "metadata": {},
   "outputs": [],
   "source": [
    "card_samples_1 = [\n",
    "    'Би:O танай:O SLOT:B-card картыг:O захиалмаар:B-action байна:O <=> tutorials',\n",
    "    'Би:O танай:O SLOT:B-card картыг:O захиалмаар:B-action байна:O яаж:B-question_type захиалах:B-action вэ:O <=> tutorials',\n",
    "    'Би:O танай:O SLOT:B-card картыг:O захиалмаар:B-action байна:O хаанаас:B-question_type захиалах:B-action вэ:O <=> tutorials',\n",
    "    \n",
    "    'Би:O танай:O SLOT:B-card картыг:O захиалмаар:B-action байна:O яаж:B-question_type захиалах:B-action вэ:O жилийн:B-condition хураамж:I-condition хэд:B-question_type вэ:O <=> tutorials',\n",
    "    'Би:O танай:O SLOT:B-card картыг:O захиалмаар:B-action байна:O яаж:B-question_type захиалах:B-action вэ:O жилийн:B-condition хураамж:I-condition хэдтэй:B-question_type байгаа:O вэ:O <=> tutorials',\n",
    "    'Би:O танай:O SLOT:B-card картыг:O захиалмаар:B-action байна:O яаж:B-question_type захиалах:B-action вэ:O жилийн:B-condition хураамж:I-condition хэд:B-question_type байгааг:O хэлээд:B-action өгөөч:I-action <=> tutorials',\n",
    "    'Би:O танай:O SLOT:B-card картыг:O захиалмаар:B-action байна:O яаж:B-question_type захиалах:B-action вэ:O жилийн:B-condition хураамж:I-condition хэд:B-question_type байгааг:O хараад:B-action өгч:I-action болох:O уу:O <=> tutorials',\n",
    "\n",
    "    'Би:O танай:O SLOT:B-card картыг:O захиалмаар:B-action байна:O хаанаас:B-question_type захиалах:B-action вэ:O жилийн:B-condition хураамж:I-condition хэд:B-question_type вэ:O <=> tutorials',\n",
    "    'Би:O танай:O SLOT:B-card картыг:O захиалмаар:B-action байна:O хаанаас:B-question_type захиалах:B-action вэ:O жилийн:B-condition хураамж:I-condition хэдтэй:B-question_type байгаа:O вэ:O <=> tutorials',\n",
    "    'Би:O танай:O SLOT:B-card картыг:O захиалмаар:B-action байна:O хаанаас:B-question_type захиалах:B-action вэ:O жилийн:B-condition хураамж:I-condition хэд:B-question_type байгааг:O хэлээд:B-action өгөөч:I-action <=> tutorials',\n",
    "    'Би:O танай:O SLOT:B-card картыг:O захиалмаар:B-action байна:O хаанаас:B-question_type захиалах:B-action вэ:O жилийн:B-condition хураамж:I-condition хэд:B-question_type байгааг:O хараад:B-action өгч:I-action болох:O уу:O <=> tutorials',\n",
    "    \n",
    "    'Би:O танай:O SLOT:B-card картыг:O захиалмаар:B-action байна:O яаж:B-question_type захиалах:B-action вэ:O зээлийн:B-condition дээд:I-condition хэмжээ:I-condition нь:O хэд:B-question_type вэ:O <=> tutorials',\n",
    "    'Би:O танай:O SLOT:B-card картыг:O захиалмаар:B-action байна:O яаж:B-question_type захиалах:B-action вэ:O зээлийн:B-condition дээд:I-condition хэмжээ:I-condition нь:O хэдтэй:B-question_type байгаа:O вэ:O <=> tutorials',\n",
    "    'Би:O танай:O SLOT:B-card картыг:O захиалмаар:B-action байна:O яаж:B-question_type захиалах:B-action вэ:O зээлийн:B-condition дээд:I-condition хэмжээ:I-condition нь:O хэд:B-question_type байгааг:O хэлээд:B-action өгөөч:I-action <=> tutorials',\n",
    "    'Би:O танай:O SLOT:B-card картыг:O захиалмаар:B-action байна:O яаж:B-question_type захиалах:B-action вэ:O зээлийн:B-condition дээд:I-condition хэмжээ:I-condition нь:O хэд:B-question_type байгааг:O хараад:B-action өгч:I-action болох:O уу:O <=> tutorials',\n",
    "    \n",
    "    'Би:O танай:O SLOT:B-card картыг:O захиалмаар:B-action байна:O яаж:B-question_type захиалах:B-action вэ:O зээлийн:B-condition доод:I-condition хэмжээ:I-condition нь:O хэд:B-question_type вэ:O <=> tutorials',\n",
    "    'Би:O танай:O SLOT:B-card картыг:O захиалмаар:B-action байна:O яаж:B-question_type захиалах:B-action вэ:O зээлийн:B-condition доод:I-condition хэмжээ:I-condition нь:O хэдтэй:B-question_type байгаа:O вэ:O <=> tutorials',\n",
    "    'Би:O танай:O SLOT:B-card картыг:O захиалмаар:B-action байна:O яаж:B-question_type захиалах:B-action вэ:O зээлийн:B-condition доод:I-condition хэмжээ:I-condition нь:O хэд:B-question_type байгааг:O хэлээд:B-action өгөөч:I-action <=> tutorials',\n",
    "    'Би:O танай:O SLOT:B-card картыг:O захиалмаар:B-action байна:O яаж:B-question_type захиалах:B-action вэ:O зээлийн:B-condition доод:I-condition хэмжээ:I-condition нь:O хэд:B-question_type байгааг:O хараад:B-action өгч:I-action болох:O уу:O <=> tutorials',\n",
    "]\n",
    "\n",
    "card_samples_2 = [\n",
    "    'SLOT:B-card картыг:O яаж:B-question_type долларын:B-currency вальюттай:B-condition нээх:B-action үү:O <=> tutorials',\n",
    "    'SLOT:B-card картыг:O яаж:B-question_type долларын:B-currency вальюттай:B-condition захиалах:B-action уу:O <=> tutorials',\n",
    "    'SLOT:B-card картыг:O яаж:B-question_type доллараар:B-currency нээх:B-action үү:O <=> tutorials',\n",
    "    'SLOT:B-card картыг:O яаж:B-question_type доллараар:B-currency захиалах:B-action уу:O <=> tutorials',\n",
    "    \n",
    "    'Танай:O SLOT:B-card картыг:O яаж:B-question_type захиалах:B-action вэ:O картны:O хүчинтэй:B-condition хугацаа:I-condition нь:O юу:B-question_type вэ:O <=> tutorials',\n",
    "    'Танай:O SLOT:B-card картыг:O яаж:B-question_type захиалах:B-action вэ:O картны:O хүчинтэй:B-condition хугацаа:I-condition нь:O хэдэн:B-question_type жил:O вэ:O <=> tutorials',\n",
    "    \n",
    "    'Энэ:O SLOT:B-card карт:O яаж:B-question_type захиалах:B-action вэ:O ямар:B-question_type эрхтэй:B-condition вэ:O <=> tutorials',\n",
    "]\n",
    "\n",
    "card_samples_3 = [\n",
    "    'SLOT:B-card картыг:O яаж:B-question_type захиалах:B-action вэ:O үнэ:B-condition хэд:B-question_type вэ:O <=> tutorials',\n",
    "    'SLOT:B-card карт:O яаж:B-question_type захиалах:B-action вэ:O хэд:B-question_type вэ:O <=> tutorials',\n",
    "    'SLOT:B-card картыг:O яаж:B-question_type захиалах:B-action вэ:O хэдээр:B-question_type авах:B-action вэ:O <=> tutorials',\n",
    "    'SLOT:B-card картыг:O яаж:B-question_type захиалах:B-action вэ:O хэдээр:B-question_type нээх:B-action вэ:O <=> tutorials',\n",
    "    'SLOT:B-card картыг:O яаж:B-question_type захиалах:B-action вэ:O төлөх:B-action үү:O <=> tutorials',\n",
    "    \n",
    "    'SLOT:B-card картыг:O яаж:B-question_type нээлгэх:B-action вэ:O үнэ:B-condition хэд:B-question_type вэ:O <=> tutorials',\n",
    "    'SLOT:B-card карт:O яаж:B-question_type нээлгэх:B-action вэ:O хэд:B-question_type вэ:O <=> tutorials',\n",
    "    'SLOT:B-card картыг:O яаж:B-question_type нээлгэх:B-action вэ:O хэдээр:B-question_type нээж:B-action байна:O <=> tutorials',\n",
    "    'SLOT:B-card картыг:O яаж:B-question_type нээлгэх:B-action вэ:O төлөх:B-action үү:O <=> tutorials',\n",
    "    \n",
    "]\n",
    "\n",
    "card_samples_4 = [\n",
    "    'Танай:O банкны:O SLOT:B-card картыг:O яаж:B-question_type захиалах:B-action вэ:O өдөрт:B-condition гаргах:I-condition бэлэн:I-condition гүйлгээний:I-condition лимит:I-condition хэд:B-question_type байна:O <=> tutorials',\n",
    "    'Танай:O банкны:O SLOT:B-card картыг:O яаж:B-question_type нээлгэх:B-action вэ:O өдөрт:B-condition гаргах:I-condition бэлэн:I-condition гүйлгээний:I-condition лимит:I-condition хэд:B-question_type байна:O <=> tutorials',\n",
    "    \n",
    "    'Танай:O банкны:O SLOT:B-card картыг:O яаж:B-question_type захиалах:B-action вэ:O өдөрт:B-condition гаргах:I-condition бэлэн:I-condition бус:I-condition гүйлгээний:I-condition лимит:I-condition хэд:B-question_type байна:O <=> tutorials',\n",
    "    'Танай:O банкны:O SLOT:B-card картыг:O яаж:B-question_type нээлгэх:B-action вэ:O өдөрт:B-condition гаргах:I-condition бэлэн:I-condition бус:I-condition гүйлгээний:I-condition лимит:I-condition хэд:B-question_type байна:O <=> tutorials',\n",
    "    \n",
    "    'Танай:O SLOT:B-card картыг:O яаж:B-question_type захиалах:B-action вэ:O эргэн:B-condition төлөх:I-condition доод:I-condition хэмжээ:I-condition нь:O хэд:B-question_type байна:O <=> tutorials',\n",
    "    \n",
    "    'Би:O SLOT:B-card картныхаа:O эргэн:B-condition төлөлтөө:I-action хийгээгүй:B-action яаж:B-question_type хийх:B-action үү:O <=> tutorials',\n",
    "    'Би:O SLOT:B-card картныхаа:O эргэн:B-condition төлөлтөө:I-action хийгээгүй:B-action хаана:B-question_type хийх:B-action үү:O <=> tutorials',\n",
    "]   "
   ]
  },
  {
   "cell_type": "code",
   "execution_count": 229,
   "id": "e059b2ed",
   "metadata": {},
   "outputs": [
    {
     "data": {
      "text/plain": [
       "1195"
      ]
     },
     "execution_count": 229,
     "metadata": {},
     "output_type": "execute_result"
    }
   ],
   "source": [
    "for word in card_1:\n",
    "    card_tutorials += [sent.replace('SLOT', word).strip() for sent in card_samples_1]\n",
    "\n",
    "for word in card_2:\n",
    "    card_tutorials += [sent.replace('SLOT', word).strip() for sent in card_samples_2]\n",
    "    \n",
    "for word in card_3:\n",
    "    card_tutorials += [sent.replace('SLOT', word).strip() for sent in card_samples_3]\n",
    "    \n",
    "for word in card_4:\n",
    "    card_tutorials += [sent.replace('SLOT', word).strip() for sent in card_samples_4]\n",
    "    \n",
    "    \n",
    "card_tutorials = list(set(card_tutorials))\n",
    "\n",
    "card_tutorials = request_constructor(card_tutorials, 'B-card')\n",
    "len(card_tutorials)"
   ]
  },
  {
   "cell_type": "code",
   "execution_count": 230,
   "id": "20b3d83f",
   "metadata": {},
   "outputs": [
    {
     "name": "stdout",
     "output_type": "stream",
     "text": [
      "All misspelled tutorials: 1215\n"
     ]
    }
   ],
   "source": [
    "all_tutorials += loan_tutorials + card_tutorials\n",
    "print('All misspelled tutorials:', len(all_tutorials))"
   ]
  },
  {
   "cell_type": "markdown",
   "id": "c273e1b7",
   "metadata": {},
   "source": [
    "# ebank_options"
   ]
  },
  {
   "cell_type": "code",
   "execution_count": 231,
   "id": "aa4ac841",
   "metadata": {},
   "outputs": [],
   "source": [
    "ebank_options_requests = []"
   ]
  },
  {
   "cell_type": "code",
   "execution_count": 232,
   "id": "8a4df910",
   "metadata": {},
   "outputs": [],
   "source": [
    "# Channel нь алдаж (өөрөөр) бичсэн үед\n",
    "ebank_options = []\n",
    "\n",
    "channel_1 = ['интэрнэт банкыг', 'интернэт банкыг', \n",
    "             \n",
    "             'сошиал пей', 'сошиал пэй']\n",
    "\n",
    "# All card\n",
    "all_cards = ['Зэс', 'Ган', 'Алтан', 'Алтан Кредит', 'Американ экспресс', 'Американ экспресс ногоон', \n",
    "             'Американ экспресс алтан', 'Платинум', 'Платинум виза', 'Американ экспресс ревардс', \n",
    "             'Колор', 'Оюу', 'Карбон', 'Премьер', 'Премьер вип', 'Алтан дебит']\n",
    "\n",
    "channel_2 = ['интэрнэт банкаар', 'интернэт банкаар', \n",
    "             \n",
    "             'сошиал пэйгээр']\n",
    "\n",
    "# Credit card\n",
    "card_1 = ['Зэс', 'Ган', 'Алтан', 'Алтан Кредит', 'Американ экспресс', 'Американ экспресс ногоон', \n",
    "          'Американ экспресс алтан', 'Платинум', 'Платинум виза']\n",
    "\n",
    "channel_3 = channel_2"
   ]
  },
  {
   "cell_type": "code",
   "execution_count": 233,
   "id": "dc5d47c7",
   "metadata": {},
   "outputs": [],
   "source": [
    "channel_samples_1 = [\n",
    "    'Танай:O SLOT:B-channel ашиглаад:B-action карт:B-product захиалж:I-action болдог:O уу:O <=> ebank_options',\n",
    "    'Танай:O SLOT:B-channel ашиглаад:B-action кредит:B-product картныхаа:I-product төлөлтийг:B-transaction хийж:I-action болдог:O уу:O <=> ebank_options',\n",
    "    'Танай:O SLOT:B-channel ашиглаад:B-action картаа:B-product блок:B-action хийж:I-action болдог:O уу:O <=> ebank_options',\n",
    "    'Танай:O SLOT:B-channel ашиглаад:B-action икод:B-ebank_item авч:I-action болдог:O уу:O <=> ebank_options',\n",
    "    'Танай:O SLOT:B-channel ашиглаад:B-action дансны:B-product хуулгаа:B-condition авч:I-action болдог:O уу:O <=> ebank_options',\n",
    "    'Танай:O SLOT:B-channel ашиглаад:B-action дансны:B-product үлдэгдэлээ:B-condition шалгаж:I-action болдог:O уу:O <=> ebank_options',\n",
    "    'Танай:O SLOT:B-channel ашиглаад:B-action дансны:B-product нэрээ:B-condition сольж:I-action болдог:O уу:O <=> ebank_options',\n",
    "]\n",
    "\n",
    "channel_samples_2 = [\n",
    "    'Би:O өөрийнхөө:O SLOT:B-channel TEMP:B-card картныхаа:O төлбөрийг:B-condition төлөх:B-transaction гэсэн:O юм:O болох:O уу:O <=> ebank_options',\n",
    "    'Би:O өөрийнхөө:O SLOT:B-channel TEMP:B-card картныхаа:O төлөлтийг:B-condition хийх:B-transaction гэсэн:O юм:O <=> ebank_options',\n",
    "    'Би:O өөрийнхөө:O SLOT:B-channel TEMP:B-card картныхаа:O төлбөрийг:B-condition хиймээр:B-transaction байна:O <=> ebank_options',\n",
    "\n",
    "    'Би:O өөрийнхөө:O SLOT:B-channel TEMP:B-card картныхаа:O хугацааг:B-condition сунгаж:B-action болох:O уу:O <=> ebank_options',\n",
    "    'Би:O өөрийнхөө:O SLOT:B-channel TEMP:B-card картныхаа:O пин:B-ebank_item кодыг:I-ebank_item сольж:B-action болох:O уу:O <=> ebank_options',\n",
    "]\n",
    "\n",
    "channel_samples_3 = [\n",
    "    'Би:O танай:O SLOT:B-channel TEMP:B-card картныхаа:O жилийн:B-condition хураамжыг:I-condition хийж:B-transaction болох:O уу:O <=> ebank_options',\n",
    "    'Би:O танай:O SLOT:B-channel TEMP:B-card картныхаа:O зээлийг:B-condition төлөх:B-transaction гэсэн:O юм:O <=> ebank_options',\n",
    "]"
   ]
  },
  {
   "cell_type": "code",
   "execution_count": 234,
   "id": "04b71221",
   "metadata": {},
   "outputs": [],
   "source": [
    "for word in channel_1:\n",
    "    ebank_options += [sent.replace('SLOT', word).strip() for sent in channel_samples_1]\n",
    "\n",
    "ebank_options = request_constructor(ebank_options, 'B-channel')"
   ]
  },
  {
   "cell_type": "code",
   "execution_count": 235,
   "id": "1e595711",
   "metadata": {},
   "outputs": [],
   "source": [
    "temp = []\n",
    "temp_2 = []\n",
    "for word in channel_2:\n",
    "    temp_2 += [sent.replace('SLOT', word).strip() for sent in channel_samples_2]\n",
    "    \n",
    "temp_2 = request_constructor(temp_2, 'B-channel')\n",
    "for word in all_cards:\n",
    "    temp += [sent.replace('TEMP', word).strip() for sent in temp_2]\n",
    "    \n",
    "temp = request_constructor(temp, 'B-card')\n",
    "ebank_options += temp"
   ]
  },
  {
   "cell_type": "code",
   "execution_count": 236,
   "id": "1b32d392",
   "metadata": {},
   "outputs": [],
   "source": [
    "temp = []\n",
    "temp_3 = []\n",
    "for word in channel_3:\n",
    "    temp_3 += [sent.replace('SLOT', word).strip() for sent in channel_samples_3]\n",
    "    \n",
    "temp_3 = request_constructor(temp_3, 'B-channel')\n",
    "for word in card_1:\n",
    "    temp += [sent.replace('TEMP', word).strip() for sent in temp_3]\n",
    "    \n",
    "temp = request_constructor(temp, 'B-card')\n",
    "ebank_options += temp"
   ]
  },
  {
   "cell_type": "code",
   "execution_count": 237,
   "id": "33bd4963",
   "metadata": {},
   "outputs": [
    {
     "data": {
      "text/plain": [
       "322"
      ]
     },
     "execution_count": 237,
     "metadata": {},
     "output_type": "execute_result"
    }
   ],
   "source": [
    "ebank_options_requests += ebank_options\n",
    "len(ebank_options_requests)"
   ]
  },
  {
   "cell_type": "code",
   "execution_count": 238,
   "id": "dbe59771",
   "metadata": {},
   "outputs": [],
   "source": [
    "# Channel нь алдаагүй харин Card нь алдаж бичсэн үед \n",
    "ebank_options = []\n",
    "\n",
    "channel_1 = ['интернет банкыг', 'смарт банкыг', 'сошиал пей']\n",
    "\n",
    "# All card\n",
    "all_cards = [\n",
    "    'Алтан Крэдит', \n",
    "          \n",
    "    'Американ экспрэсс', 'Амэрикан экспресс', 'Амэрикан экспрэсс', 'Америк экспресс', \n",
    "    'Америк экспрэсс', 'Амэрик экспресс', 'Амэрикан экспрэсс',\n",
    "    'Американ экспрэс', 'Амэрикан экспрес', 'Амэрикан экспрэс', 'Америк экспрес', \n",
    "    'Америк экспрэс', 'Амэрик экспрес', 'Амэрикан экспрэс',\n",
    "\n",
    "    'Амэрикан экспресс ногоон', 'Амэрикан экспрэсс ногоон', 'Америк экспресс ногоон', \n",
    "    'Америк экспрэсс ногоон', 'Амэрик экспресс ногоон', 'Амэрикан экспрэсс ногоон',\n",
    "    'Амэрикан экспрес ногоон', 'Амэрикан экспрэс ногоон', 'Америк экспрес ногоон', \n",
    "    'Америк экспрэс ногоон', 'Амэрик экспрес ногоон', 'Амэрикан экспрэс ногоон',\n",
    "\n",
    "    'Амэрикан экспресс алтан', 'Амэрикан экспрэсс алтан', 'Америк экспресс алтан', \n",
    "    'Америк экспрэсс алтан', 'Амэрик экспресс алтан', 'Амэрикан экспрэсс алтан',\n",
    "    'Амэрикан экспрес алтан', 'Амэрикан экспрэс алтан', 'Америк экспрес алтан', \n",
    "    'Америк экспрэс алтан', 'Амэрик экспрес алтан', 'Амэрикан экспрэс алтан',\n",
    "    \n",
    "    'Амэрикан экспресс рэвардс', 'Амэрикан экспрэсс рэвардс', 'Америк экспресс рэвардс', \n",
    "    'Америк экспрэсс рэвардс', 'Амэрик экспресс рэвардс', 'Амэрикан экспрэсс рэвардс',\n",
    "    'Амэрикан экспрес рэвардс', 'Амэрикан экспрэс рэвардс', 'Америк экспрес рэвардс', \n",
    "    'Америк экспрэс рэвардс', 'Амэрик экспрес рэвардс', 'Амэрикан экспрэс рэвардс',\n",
    "    \n",
    "    'Колр', 'Премер', 'Премэр вип']\n",
    "\n",
    "channel_2 = ['интернет банкаар', 'смарт банкаар', 'сошиал пейгээр']\n",
    "\n",
    "# Credit card\n",
    "card_1 = [\n",
    "    'Алтан Крэдит', \n",
    "          \n",
    "    'Американ экспрэсс', 'Амэрикан экспресс', 'Амэрикан экспрэсс', 'Америк экспресс', \n",
    "    'Америк экспрэсс', 'Амэрик экспресс', 'Амэрикан экспрэсс',\n",
    "    'Американ экспрэс', 'Амэрикан экспрес', 'Амэрикан экспрэс', 'Америк экспрес', \n",
    "    'Америк экспрэс', 'Амэрик экспрес', 'Амэрикан экспрэс',\n",
    "\n",
    "    'Амэрикан экспресс ногоон', 'Амэрикан экспрэсс ногоон', 'Америк экспресс ногоон', \n",
    "    'Америк экспрэсс ногоон', 'Амэрик экспресс ногоон', 'Амэрикан экспрэсс ногоон',\n",
    "    'Амэрикан экспрес ногоон', 'Амэрикан экспрэс ногоон', 'Америк экспрес ногоон', \n",
    "    'Америк экспрэс ногоон', 'Амэрик экспрес ногоон', 'Амэрикан экспрэс ногоон',\n",
    "\n",
    "    'Амэрикан экспресс алтан', 'Амэрикан экспрэсс алтан', 'Америк экспресс алтан', \n",
    "    'Америк экспрэсс алтан', 'Амэрик экспресс алтан', 'Амэрикан экспрэсс алтан',\n",
    "    'Амэрикан экспрес алтан', 'Амэрикан экспрэс алтан', 'Америк экспрес алтан', \n",
    "    'Америк экспрэс алтан', 'Амэрик экспрес алтан', 'Амэрикан экспрэс алтан',   \n",
    "]\n",
    "\n",
    "channel_3 = channel_2"
   ]
  },
  {
   "cell_type": "code",
   "execution_count": 239,
   "id": "825816a7",
   "metadata": {},
   "outputs": [],
   "source": [
    "channel_samples_1 = [\n",
    "    'Танай:O SLOT:B-channel ашиглаад:B-action карт:B-product захиалж:I-action болдог:O уу:O <=> ebank_options',\n",
    "    'Танай:O SLOT:B-channel ашиглаад:B-action кредит:B-product картныхаа:I-product төлөлтийг:B-transaction хийж:I-action болдог:O уу:O <=> ebank_options',\n",
    "    'Танай:O SLOT:B-channel ашиглаад:B-action картаа:B-product блок:B-action хийж:I-action болдог:O уу:O <=> ebank_options',\n",
    "    'Танай:O SLOT:B-channel ашиглаад:B-action икод:B-ebank_item авч:I-action болдог:O уу:O <=> ebank_options',\n",
    "    'Танай:O SLOT:B-channel ашиглаад:B-action дансны:B-product хуулгаа:B-condition авч:I-action болдог:O уу:O <=> ebank_options',\n",
    "    'Танай:O SLOT:B-channel ашиглаад:B-action дансны:B-product үлдэгдэлээ:B-condition шалгаж:I-action болдог:O уу:O <=> ebank_options',\n",
    "    'Танай:O SLOT:B-channel ашиглаад:B-action дансны:B-product нэрээ:B-condition сольж:I-action болдог:O уу:O <=> ebank_options',\n",
    "]\n",
    "\n",
    "channel_samples_2 = [\n",
    "    'Би:O өөрийнхөө:O SLOT:B-channel TEMP:B-card картныхаа:O төлбөрийг:B-condition төлөх:B-transaction гэсэн:O юм:O болох:O уу:O <=> ebank_options',\n",
    "    'Би:O өөрийнхөө:O SLOT:B-channel TEMP:B-card картныхаа:O төлөлтийг:B-condition хийх:B-transaction гэсэн:O юм:O <=> ebank_options',\n",
    "    'Би:O өөрийнхөө:O SLOT:B-channel TEMP:B-card картныхаа:O төлбөрийг:B-condition хиймээр:B-transaction байна:O <=> ebank_options',\n",
    "\n",
    "    'Би:O өөрийнхөө:O SLOT:B-channel TEMP:B-card картныхаа:O хугацааг:B-condition сунгаж:B-action болох:O уу:O <=> ebank_options',\n",
    "    'Би:O өөрийнхөө:O SLOT:B-channel TEMP:B-card картныхаа:O пин:B-ebank_item кодыг:I-ebank_item сольж:B-action болох:O уу:O <=> ebank_options',\n",
    "]\n",
    "\n",
    "channel_samples_3 = [\n",
    "    'Би:O танай:O SLOT:B-channel TEMP:B-card картныхаа:O жилийн:B-condition хураамжыг:I-condition хийж:B-transaction болох:O уу:O <=> ebank_options',\n",
    "    'Би:O танай:O SLOT:B-channel TEMP:B-card картныхаа:O зээлийг:B-condition төлөх:B-transaction гэсэн:O юм:O <=> ebank_options',\n",
    "]"
   ]
  },
  {
   "cell_type": "code",
   "execution_count": 240,
   "id": "19d9efe6",
   "metadata": {},
   "outputs": [],
   "source": [
    "for word in channel_1:\n",
    "    ebank_options += [sent.replace('SLOT', word).strip() for sent in channel_samples_1]\n",
    "\n",
    "ebank_options = request_constructor(ebank_options, 'B-channel')"
   ]
  },
  {
   "cell_type": "code",
   "execution_count": 241,
   "id": "6cd33aa6",
   "metadata": {},
   "outputs": [],
   "source": [
    "temp = []\n",
    "temp_2 = []\n",
    "for word in channel_2:\n",
    "    temp_2 += [sent.replace('SLOT', word).strip() for sent in channel_samples_2]\n",
    "    \n",
    "temp_2 = request_constructor(temp_2, 'B-channel')\n",
    "for word in all_cards:\n",
    "    temp += [sent.replace('TEMP', word).strip() for sent in temp_2]\n",
    "    \n",
    "temp = request_constructor(temp, 'B-card')\n",
    "ebank_options += temp"
   ]
  },
  {
   "cell_type": "code",
   "execution_count": 242,
   "id": "d608111b",
   "metadata": {},
   "outputs": [],
   "source": [
    "temp = []\n",
    "temp_3 = []\n",
    "for word in channel_3:\n",
    "    temp_3 += [sent.replace('SLOT', word).strip() for sent in channel_samples_3]\n",
    "    \n",
    "temp_3 = request_constructor(temp_3, 'B-channel')\n",
    "for word in card_1:\n",
    "    temp += [sent.replace('TEMP', word).strip() for sent in temp_3]\n",
    "    \n",
    "temp = request_constructor(temp, 'B-card')\n",
    "ebank_options += temp"
   ]
  },
  {
   "cell_type": "code",
   "execution_count": 243,
   "id": "0b9ce07b",
   "metadata": {},
   "outputs": [
    {
     "name": "stdout",
     "output_type": "stream",
     "text": [
      "All misspelled ebank options: 1387\n"
     ]
    }
   ],
   "source": [
    "ebank_options_requests += ebank_options\n",
    "print('All misspelled ebank options:', len(ebank_options_requests))"
   ]
  },
  {
   "cell_type": "markdown",
   "id": "bf1b02a4",
   "metadata": {},
   "source": [
    "# currency_exchange"
   ]
  },
  {
   "cell_type": "code",
   "execution_count": 244,
   "id": "a893fbf1",
   "metadata": {},
   "outputs": [],
   "source": [
    "currency_exchange = []\n",
    "currency_1 = ['ам долар', 'америк доллар', 'амэрик долар', 'амэрик доллар',\n",
    "              'рубел', 'рубэл',\n",
    "              'ен', \n",
    "              'ёань', \n",
    "              'канад долар', \n",
    "              'австрали долар']"
   ]
  },
  {
   "cell_type": "code",
   "execution_count": 245,
   "id": "b6c746f8",
   "metadata": {},
   "outputs": [],
   "source": [
    "currency_samples_1 = [\n",
    "    'SLOT:B-currency авах:B-action гэсэн:O юм:O аа:O <=> currency_exchange',\n",
    "    'SLOT:B-currency солиулах:B-action гэсэн:O юм:O <=> currency_exchange',\n",
    "    'SLOT:B-currency ханш:O хэдтэй:B-question_type байна:O вэ:O <=> currency_exchange',\n",
    "    'SLOT:B-currency хэдтэй:B-question_type байна:O <=> currency_exchange',\n",
    "    'SLOT:B-currency хэдээр:B-question_type сольж:B-action байгаа:O вэ:O <=> currency_exchange',\n",
    "    'Сайн:B-greeting байна:I-greeting уу:I-greeting SLOT:B-currency ямар:B-question_type ханшаар:O сольж:B-action байгаа:O бол:O <=> currency_exchange',\n",
    "    'Танайд:O SLOT:B-currency хэдтэй:B-question_type байна:O <=> currency_exchange',\n",
    "    'Танайх:O SLOT:B-currency хэдээр:B-question_type авч:B-action байна:O <=> currency_exchange',\n",
    "    'Танайх:O SLOT:B-currency хэдээр:B-question_type зарж:B-action байна:O <=> currency_exchange',\n",
    "    'Танайх:O SLOT:B-currency хэдээр:B-question_type зарж:B-question_type байна:O <=> currency_exchange'\n",
    "]"
   ]
  },
  {
   "cell_type": "code",
   "execution_count": 246,
   "id": "3ebfba3a",
   "metadata": {},
   "outputs": [
    {
     "name": "stdout",
     "output_type": "stream",
     "text": [
      "All misspelled currency exchange: 100\n"
     ]
    }
   ],
   "source": [
    "for word in currency_1:\n",
    "    currency_exchange += [sent.replace('SLOT', word).strip() for sent in currency_samples_1]\n",
    "\n",
    "currency_exchange = request_constructor(currency_exchange, 'B-currency')\n",
    "print('All misspelled currency exchange:', len(currency_exchange))"
   ]
  },
  {
   "cell_type": "markdown",
   "id": "89100f4d",
   "metadata": {},
   "source": [
    "# Definition"
   ]
  },
  {
   "cell_type": "code",
   "execution_count": 247,
   "id": "0ff9306a",
   "metadata": {},
   "outputs": [],
   "source": [
    "all_definition = []"
   ]
  },
  {
   "cell_type": "markdown",
   "id": "573c3e71",
   "metadata": {},
   "source": [
    "### loan"
   ]
  },
  {
   "cell_type": "code",
   "execution_count": 248,
   "id": "fd4ad079",
   "metadata": {},
   "outputs": [],
   "source": [
    "# All loan\n",
    "loan_definition = []"
   ]
  },
  {
   "cell_type": "code",
   "execution_count": 249,
   "id": "d4f3ac76",
   "metadata": {},
   "outputs": [
    {
     "data": {
      "text/plain": [
       "22"
      ]
     },
     "execution_count": 249,
     "metadata": {},
     "output_type": "execute_result"
    }
   ],
   "source": [
    "loan_all_samples = [\n",
    "    'SLOT:B-loan зээл:O гэж:O юу:O вэ:O <=> definition',\n",
    "    'Танай:O энэ:O SLOT:B-loan зээл:O гэдэг:O нь:O яадаг:B-question_type юм:O бэ:O <=> definition',\n",
    "    'Танай:O SLOT:B-loan зээл:O одоо:O байгаа:O юу:O <=> definition',\n",
    "    'Танай:O дээр:O SLOT:B-loan зээл:O байдаг:O уу:O <=> definition',\n",
    "    'Танай:O SLOT:B-loan зээлийн:O талаар:O хаанаас:B-question_type мэдээлэл:O авах:B-action уу:O <=> definition',\n",
    "    'Танайх:O SLOT:B-loan зээлийн:O талаар:O хаанаа:B-question_type мэдээллээ:O оруулж:B-action байна:O <=> definition',\n",
    "    'Надад:O SLOT:B-loan зээлээ:O нэг:O сайн:O тайлбарлаад:B-action өгөөч:I-action <=> definition',\n",
    "    'Надад:O SLOT:B-loan зээлийнхээ:O талаар:O нэг:O сайн:O тайлбарлаад:B-action өгөөч:I-action <=> definition',\n",
    "    'Би:O SLOT:B-loan зээлийнхээ:O талаар:O хаанаас:B-question_type мэдээлэл:O авах:B-action уу:O <=> definition',\n",
    "    'Танайх:O SLOT:B-loan зээлийнхээ:O талаар:O хаанаа:B-question_type мэдээллээ:O оруулж:B-action байна:O <=> definition',\n",
    "    'Танайх:O SLOT:B-loan зээлийнхээ:O мэдээллээ:O хаанаа:B-question_type оруулж:B-action байна:O <=> definition'\n",
    "]\n",
    "\n",
    "for word in loan:\n",
    "    loan_definition += [sent.replace('SLOT', word).strip() for sent in loan_all_samples]\n",
    "    \n",
    "loan_definition = list(set(loan_definition))\n",
    "\n",
    "loan_definition = request_constructor(loan_definition, 'B-loan')\n",
    "len(loan_definition)"
   ]
  },
  {
   "cell_type": "markdown",
   "id": "064dd2a6",
   "metadata": {},
   "source": [
    "### card"
   ]
  },
  {
   "cell_type": "code",
   "execution_count": 250,
   "id": "6074fc61",
   "metadata": {},
   "outputs": [],
   "source": [
    "card_definition = []\n",
    "all_cards = [\n",
    "    'Алтан Крэдит', \n",
    "          \n",
    "    'Американ экспрэсс', 'Амэрикан экспресс', 'Амэрикан экспрэсс', 'Америк экспресс', \n",
    "    'Америк экспрэсс', 'Амэрик экспресс', 'Амэрикан экспрэсс',\n",
    "    'Американ экспрэс', 'Амэрикан экспрес', 'Амэрикан экспрэс', 'Америк экспрес', \n",
    "    'Америк экспрэс', 'Амэрик экспрес', 'Амэрикан экспрэс',\n",
    "\n",
    "    'Амэрикан экспресс ногоон', 'Амэрикан экспрэсс ногоон', 'Америк экспресс ногоон', \n",
    "    'Америк экспрэсс ногоон', 'Амэрик экспресс ногоон', 'Амэрикан экспрэсс ногоон',\n",
    "    'Амэрикан экспрес ногоон', 'Амэрикан экспрэс ногоон', 'Америк экспрес ногоон', \n",
    "    'Америк экспрэс ногоон', 'Амэрик экспрес ногоон', 'Амэрикан экспрэс ногоон',\n",
    "\n",
    "    'Амэрикан экспресс алтан', 'Амэрикан экспрэсс алтан', 'Америк экспресс алтан', \n",
    "    'Америк экспрэсс алтан', 'Амэрик экспресс алтан', 'Амэрикан экспрэсс алтан',\n",
    "    'Амэрикан экспрес алтан', 'Амэрикан экспрэс алтан', 'Америк экспрес алтан', \n",
    "    'Америк экспрэс алтан', 'Амэрик экспрес алтан', 'Амэрикан экспрэс алтан',\n",
    "    \n",
    "    'Амэрикан экспресс рэвардс', 'Амэрикан экспрэсс рэвардс', 'Америк экспресс рэвардс', \n",
    "    'Америк экспрэсс рэвардс', 'Амэрик экспресс рэвардс', 'Амэрикан экспрэсс рэвардс',\n",
    "    'Амэрикан экспрес рэвардс', 'Амэрикан экспрэс рэвардс', 'Америк экспрес рэвардс', \n",
    "    'Америк экспрэс рэвардс', 'Амэрик экспрес рэвардс', 'Амэрикан экспрэс рэвардс',\n",
    "    \n",
    "    'Колр', 'Премер', 'Премэр вип']"
   ]
  },
  {
   "cell_type": "code",
   "execution_count": 251,
   "id": "4b4fdad5",
   "metadata": {},
   "outputs": [
    {
     "data": {
      "text/plain": [
       "506"
      ]
     },
     "execution_count": 251,
     "metadata": {},
     "output_type": "execute_result"
    }
   ],
   "source": [
    "card_all_samples = [\n",
    "    'SLOT:B-card карт:O гэж:O юу:O вэ:O <=> definition',\n",
    "    'Танай:O энэ:O SLOT:B-card карт:O гэдэг:O нь:O яадаг:B-question_type юм:O вэ:O <=> definition',\n",
    "    'Танай:O SLOT:B-card карт:O одоо:O байгаа:O юу:O <=> definition',\n",
    "    'Танай:O дээр:O SLOT:B-card карт:O байдаг:O уу:O <=> definition',\n",
    "    'Танай:O SLOT:B-card картын:O талаар:O хаанаас:B-question_type мэдээлэл:O авах:B-action уу:O <=> definition',\n",
    "    'Танайх:O SLOT:B-card картын:O талаар:O хаанаа:B-question_type мэдээллээ:O оруулж:B-action байна:O <=> definition',\n",
    "    'Надад:O SLOT:B-card картаа:O нэг:O сайн:O тайлбарлаад:B-action өгөөч:I-action <=> definition',\n",
    "    'Надад:O SLOT:B-card картынхаа:O талаар:O нэг:O сайн:O тайлбарлаад:B-action өгөөч:I-action <=> definition',\n",
    "    'Би:O SLOT:B-card картынхаа:O талаар:O хаанаас:B-question_type мэдээлэл:O авах:B-action уу:O <=> definition',\n",
    "    'Танайх:O SLOT:B-card картынхаа:O талаар:O хаанаа:B-question_type мэдээллээ:O оруулж:B-action байна:O <=> definition',\n",
    "    'Танайх:O SLOT:B-card картынхаа:O мэдээллээ:O хаанаа:B-question_type оруулж:B-action байна:O <=> definition'\n",
    "]\n",
    "\n",
    "for word in all_cards:\n",
    "    card_definition += [sent.replace('SLOT', word).strip() for sent in card_all_samples]\n",
    "    \n",
    "card_definition = list(set(card_definition))\n",
    "\n",
    "card_definition = request_constructor(card_definition, 'B-card')\n",
    "len(card_definition)"
   ]
  },
  {
   "cell_type": "markdown",
   "id": "2accdde8",
   "metadata": {},
   "source": [
    "### channel"
   ]
  },
  {
   "cell_type": "code",
   "execution_count": 252,
   "id": "7fd3aa15",
   "metadata": {},
   "outputs": [],
   "source": [
    "# channels\n",
    "channel_definition = []\n",
    "channel = ['интэрнэт банк', 'интернэт банк', \n",
    "           \n",
    "           'сошиал пэй', \n",
    "           \n",
    "           'изи инфо']\n",
    "\n",
    "channel_1 = ['интэрнэт банкыг', 'интернэт банкаар', \n",
    "             \n",
    "             'сошиал пэй']\n",
    "\n",
    "channel_2 = ['интэрнэт банкаар', 'интернэт банкаар',\n",
    "             \n",
    "             'сошиал пэйгээр']\n",
    "\n",
    "channel_3 = ['интэрнэт банкны', 'интернэт банкаар',\n",
    "             \n",
    "             'сошиал пэйгийн', \n",
    "             \n",
    "             'изи инфогын']\n",
    "\n",
    "channel_4 = ['интэрнэт банкаа', 'интернэт банкаар', \n",
    "             \n",
    "             'сошиал пэй ээ', \n",
    "             \n",
    "             'изи инфогоо']\n",
    "\n",
    "channel_5 = ['интэрнэт банкныхаа', 'интернэт банкаар',\n",
    "             \n",
    "             'сошиал пэй ийнхээ', \n",
    "             \n",
    "             'изи инфогынхээ']"
   ]
  },
  {
   "cell_type": "code",
   "execution_count": 253,
   "id": "b8ab4ff8",
   "metadata": {},
   "outputs": [
    {
     "data": {
      "text/plain": [
       "43"
      ]
     },
     "execution_count": 253,
     "metadata": {},
     "output_type": "execute_result"
    }
   ],
   "source": [
    "channel_all_samples = [\n",
    "    'SLOT:B-channel гэж:O юу:O вэ:O <=> definition',\n",
    "    'Танай:O энэ:O SLOT:B-channel гэдэг:O нь:O яадаг:B-question_type юм:O вэ:O <=> definition',\n",
    "    'Танай:O SLOT:B-channel одоо:O байгаа:O юу:O <=> definition',\n",
    "    'Танай:O дээр:O SLOT:B-channel байдаг:O уу:O <=> definition',\n",
    "]\n",
    "\n",
    "channel_samples_3 = [\n",
    "    'Танай:O SLOT:B-channel талаар:O хаанаас:B-question_type мэдээлэл:O авах:B-action уу:O <=> definition',\n",
    "    'Танайх:O SLOT:B-channel талаар:O хаанаа:B-question_type мэдээллээ:O оруулж:B-action байна:O <=> definition',\n",
    "]\n",
    "\n",
    "channel_samples_4 = [\n",
    "    'Надад:O SLOT:B-channel нэг:O сайн:O тайлбарлаад:B-action өгөөч:I-action <=> definition',\n",
    "]\n",
    "\n",
    "channel_samples_5 = [\n",
    "    'Надад:O SLOT:B-channel талаар:O нэг:O сайн:O тайлбарлаад:B-action өгөөч:I-action <=> definition',\n",
    "    'Би:O SLOT:B-channel талаар:O хаанаас:B-question_type мэдээлэл:O авах:B-action уу:O <=> definition',\n",
    "    'Танайх:O SLOT:B-channel талаар:O хаанаа:B-question_type мэдээллээ:O оруулж:B-action байна:O <=> definition',\n",
    "    'Танайх:O SLOT:B-channel мэдээллээ:O хаанаа:B-question_type оруулж:B-action байна:O <=> definition'\n",
    "]\n",
    "\n",
    "for word in channel:\n",
    "    channel_definition += [sent.replace('SLOT', word).strip() for sent in channel_all_samples]\n",
    "\n",
    "for word in channel_3:\n",
    "    channel_definition += [sent.replace('SLOT', word).strip() for sent in channel_samples_3]\n",
    "    \n",
    "for word in channel_4:\n",
    "    channel_definition += [sent.replace('SLOT', word).strip() for sent in channel_samples_4]\n",
    "    \n",
    "for word in channel_5:\n",
    "    channel_definition += [sent.replace('SLOT', word).strip() for sent in channel_samples_5]\n",
    "    \n",
    "channel_definition = list(set(channel_definition))\n",
    "\n",
    "channel_definition = request_constructor(channel_definition, 'B-channel')\n",
    "len(channel_definition)"
   ]
  },
  {
   "cell_type": "code",
   "execution_count": 254,
   "id": "1ec81e26",
   "metadata": {},
   "outputs": [
    {
     "name": "stdout",
     "output_type": "stream",
     "text": [
      "All misspelled definition: 571\n"
     ]
    }
   ],
   "source": [
    "all_definition += loan_definition + card_definition + channel_definition\n",
    "print('All misspelled definition:', len(all_definition))"
   ]
  },
  {
   "cell_type": "markdown",
   "id": "d7b8b4b9",
   "metadata": {},
   "source": [
    "# Fin"
   ]
  },
  {
   "cell_type": "code",
   "execution_count": 255,
   "id": "d3865e72",
   "metadata": {},
   "outputs": [
    {
     "name": "stdout",
     "output_type": "stream",
     "text": [
      "All misspelled requests: 4924\n"
     ]
    }
   ],
   "source": [
    "all_misspelled_requests += all_product_conditions + all_tutorials + ebank_options_requests + currency_exchange + all_definition\n",
    "print('All misspelled requests:', len(all_misspelled_requests))"
   ]
  },
  {
   "cell_type": "code",
   "execution_count": 262,
   "id": "b4abdca1",
   "metadata": {},
   "outputs": [],
   "source": [
    "with open('misspelled_requests.txt', 'w') as handle:\n",
    "    for req in all_misspelled_requests:\n",
    "        handle.write(\"%s\\n\" % req.strip())"
   ]
  },
  {
   "cell_type": "markdown",
   "id": "8792f649",
   "metadata": {},
   "source": [
    "# Validating"
   ]
  },
  {
   "cell_type": "code",
   "execution_count": 256,
   "id": "6c4ef8a0",
   "metadata": {},
   "outputs": [],
   "source": [
    "words = []\n",
    "slot_tags = []\n",
    "intents = []\n",
    "sent_id = []\n",
    "idx = 1\n",
    "\n",
    "for line in all_misspelled_requests:\n",
    "    seq_split = line.strip().split('<=>')\n",
    "    seq_words = [w.split(':')[0] for w in seq_split[0].split()]\n",
    "    seq_slots = [w.split(':')[1] for w in seq_split[0].split()]\n",
    "    seq_intent = seq_split[1].strip()\n",
    "    \n",
    "    words += seq_words\n",
    "    slot_tags += seq_slots\n",
    "    sent_id += [idx]*len(seq_words)\n",
    "    intents.append([seq_intent, idx])\n",
    "    \n",
    "    idx += 1\n",
    "    \n",
    "df = pd.DataFrame({'sent_id': sent_id, 'seq_words': words, 'slot_tags': slot_tags})"
   ]
  },
  {
   "cell_type": "code",
   "execution_count": 257,
   "id": "efd1666f",
   "metadata": {},
   "outputs": [
    {
     "data": {
      "text/plain": [
       "product_conditions    1651\n",
       "ebank_options         1387\n",
       "tutorials             1215\n",
       "definition             571\n",
       "currency_exchange      100\n",
       "Name: intent, dtype: int64"
      ]
     },
     "execution_count": 257,
     "metadata": {},
     "output_type": "execute_result"
    }
   ],
   "source": [
    "intents_df = pd.DataFrame({'intent': [pair[0] for pair in intents], \n",
    "                           'sent_id': [pair[1] for pair in intents]})\n",
    "intents_df['intent'].value_counts()"
   ]
  },
  {
   "cell_type": "code",
   "execution_count": 258,
   "id": "bf891a28",
   "metadata": {},
   "outputs": [
    {
     "data": {
      "text/plain": [
       "O                  22403\n",
       "I-card              7319\n",
       "B-card              4682\n",
       "I-condition         4594\n",
       "B-action            4328\n",
       "B-question_type     3725\n",
       "B-condition         3602\n",
       "I-channel           1435\n",
       "B-channel           1430\n",
       "I-action             978\n",
       "B-transaction        925\n",
       "B-currency           372\n",
       "B-ebank_item         217\n",
       "I-ebank_item         210\n",
       "I-currency            60\n",
       "B-loan                50\n",
       "I-loan                50\n",
       "B-product             42\n",
       "I-greeting            20\n",
       "B-greeting            10\n",
       "I-product              7\n",
       "Name: slot_tags, dtype: int64"
      ]
     },
     "execution_count": 258,
     "metadata": {},
     "output_type": "execute_result"
    }
   ],
   "source": [
    "df['slot_tags'].value_counts()"
   ]
  },
  {
   "cell_type": "code",
   "execution_count": 259,
   "id": "bd264a59",
   "metadata": {},
   "outputs": [],
   "source": [
    "# Visualizing B- and I- counts might be useful\n",
    "def b_and_i_tags_plotter(df, save_plot_name = 'plot_1', a = 0, b = df.shape[0]):\n",
    "    tags_counts = df['slot_tags'].value_counts()\n",
    "    tags = tags_counts.index.tolist()[1:]\n",
    "    values = tags_counts.values.tolist()[1:]\n",
    "\n",
    "    b_tags = []\n",
    "    i_tags = []\n",
    "\n",
    "    for i in range(len(tags)):\n",
    "        if 'B-' in tags[i]:\n",
    "            b_tags.append([tags[i].split('B-')[1], values[i]])\n",
    "        else:\n",
    "            i_tags.append([tags[i].split('I-')[1], values[i]])\n",
    "\n",
    "    b_tags.sort()\n",
    "    i_tags.sort()\n",
    "        \n",
    "    for i in range(len(b_tags)):\n",
    "        try:\n",
    "            if i_tags[i][0] != b_tags[i][0]:\n",
    "                i_tags.insert(i, [b_tags[i][0], 0])\n",
    "        except IndexError:\n",
    "            i_tags.insert(i, [b_tags[i][0], 0])\n",
    "    \n",
    "    ind = [pair[0] for pair in b_tags]\n",
    "    i_counts = [pair[1] for pair in i_tags]\n",
    "    b_counts = [pair[1] for pair in b_tags]\n",
    "    total_count = [x + y for x, y in zip(b_counts, i_counts)]\n",
    "    b_and_i_df = pd.DataFrame({'tags': ind, \n",
    "                               'B- count': b_counts, \n",
    "                               'I- count': i_counts, \n",
    "                               'total': total_count}).sort_values(by = 'total', ascending = False).reset_index(drop = True)\n",
    "    b_and_i_df['ratio'] = b_and_i_df['I- count']/b_and_i_df['B- count']\n",
    "    \n",
    "    ind = b_and_i_df['tags'][a:b]\n",
    "    bottom = b_and_i_df['B- count'][a:b]\n",
    "    top = b_and_i_df['I- count'][a:b]\n",
    "    \n",
    "    width = 0.5\n",
    "    fig, ax = plt.subplots(figsize = (12, 8))\n",
    "    ax.bar(ind, bottom, width, color = 'tab:blue');\n",
    "    ax.bar(ind, top, width, bottom = bottom, color = 'tab:cyan');\n",
    "\n",
    "    ax.set_ylabel('Count', fontsize = 15)\n",
    "    ax.set_title('B- and I- tags relative counts', fontsize = 15)\n",
    "    ax.tick_params(axis = 'x', labelrotation = 30, labelsize = 12)\n",
    "    ax.tick_params(axis = 'y', labelsize = 12)\n",
    "    ax.legend(labels=['B-', 'I-'], frameon = False, fontsize = 12)\n",
    "\n",
    "    ax.spines['top'].set_visible(False)\n",
    "    ax.spines['right'].set_visible(False)\n",
    "    ax.grid(color = 'g', alpha = 0.2)\n",
    "\n",
    "    plt.show()\n",
    "    display(b_and_i_df.iloc[a:b])\n",
    "    #b_and_i_df.to_csv('b_and_i_count.csv', index = False)\n",
    "    fig.savefig(f'{save_plot_name}.jpg', dpi = 180)"
   ]
  },
  {
   "cell_type": "code",
   "execution_count": 260,
   "id": "b220f015",
   "metadata": {},
   "outputs": [
    {
     "data": {
      "image/png": "[encoded data removed]",
      "text/plain": [
       "<Figure size 864x576 with 1 Axes>"
      ]
     },
     "metadata": {
      "needs_background": "light"
     },
     "output_type": "display_data"
    },
    {
     "data": {
      "text/html": [
       "<div>\n",
       "<style scoped>\n",
       "    .dataframe tbody tr th:only-of-type {\n",
       "        vertical-align: middle;\n",
       "    }\n",
       "\n",
       "    .dataframe tbody tr th {\n",
       "        vertical-align: top;\n",
       "    }\n",
       "\n",
       "    .dataframe thead th {\n",
       "        text-align: right;\n",
       "    }\n",
       "</style>\n",
       "<table border=\"1\" class=\"dataframe\">\n",
       "  <thead>\n",
       "    <tr style=\"text-align: right;\">\n",
       "      <th></th>\n",
       "      <th>tags</th>\n",
       "      <th>B- count</th>\n",
       "      <th>I- count</th>\n",
       "      <th>total</th>\n",
       "      <th>ratio</th>\n",
       "    </tr>\n",
       "  </thead>\n",
       "  <tbody>\n",
       "    <tr>\n",
       "      <th>0</th>\n",
       "      <td>card</td>\n",
       "      <td>4682</td>\n",
       "      <td>7319</td>\n",
       "      <td>12001</td>\n",
       "      <td>1.563221</td>\n",
       "    </tr>\n",
       "    <tr>\n",
       "      <th>1</th>\n",
       "      <td>condition</td>\n",
       "      <td>3602</td>\n",
       "      <td>4594</td>\n",
       "      <td>8196</td>\n",
       "      <td>1.275403</td>\n",
       "    </tr>\n",
       "    <tr>\n",
       "      <th>2</th>\n",
       "      <td>action</td>\n",
       "      <td>4328</td>\n",
       "      <td>978</td>\n",
       "      <td>5306</td>\n",
       "      <td>0.225970</td>\n",
       "    </tr>\n",
       "    <tr>\n",
       "      <th>3</th>\n",
       "      <td>question_type</td>\n",
       "      <td>3725</td>\n",
       "      <td>0</td>\n",
       "      <td>3725</td>\n",
       "      <td>0.000000</td>\n",
       "    </tr>\n",
       "    <tr>\n",
       "      <th>4</th>\n",
       "      <td>channel</td>\n",
       "      <td>1430</td>\n",
       "      <td>1435</td>\n",
       "      <td>2865</td>\n",
       "      <td>1.003497</td>\n",
       "    </tr>\n",
       "    <tr>\n",
       "      <th>5</th>\n",
       "      <td>transaction</td>\n",
       "      <td>925</td>\n",
       "      <td>0</td>\n",
       "      <td>925</td>\n",
       "      <td>0.000000</td>\n",
       "    </tr>\n",
       "    <tr>\n",
       "      <th>6</th>\n",
       "      <td>currency</td>\n",
       "      <td>372</td>\n",
       "      <td>60</td>\n",
       "      <td>432</td>\n",
       "      <td>0.161290</td>\n",
       "    </tr>\n",
       "    <tr>\n",
       "      <th>7</th>\n",
       "      <td>ebank_item</td>\n",
       "      <td>217</td>\n",
       "      <td>210</td>\n",
       "      <td>427</td>\n",
       "      <td>0.967742</td>\n",
       "    </tr>\n",
       "    <tr>\n",
       "      <th>8</th>\n",
       "      <td>loan</td>\n",
       "      <td>50</td>\n",
       "      <td>50</td>\n",
       "      <td>100</td>\n",
       "      <td>1.000000</td>\n",
       "    </tr>\n",
       "    <tr>\n",
       "      <th>9</th>\n",
       "      <td>product</td>\n",
       "      <td>42</td>\n",
       "      <td>7</td>\n",
       "      <td>49</td>\n",
       "      <td>0.166667</td>\n",
       "    </tr>\n",
       "    <tr>\n",
       "      <th>10</th>\n",
       "      <td>greeting</td>\n",
       "      <td>10</td>\n",
       "      <td>20</td>\n",
       "      <td>30</td>\n",
       "      <td>2.000000</td>\n",
       "    </tr>\n",
       "  </tbody>\n",
       "</table>\n",
       "</div>"
      ],
      "text/plain": [
       "             tags  B- count  I- count  total     ratio\n",
       "0            card      4682      7319  12001  1.563221\n",
       "1       condition      3602      4594   8196  1.275403\n",
       "2          action      4328       978   5306  0.225970\n",
       "3   question_type      3725         0   3725  0.000000\n",
       "4         channel      1430      1435   2865  1.003497\n",
       "5     transaction       925         0    925  0.000000\n",
       "6        currency       372        60    432  0.161290\n",
       "7      ebank_item       217       210    427  0.967742\n",
       "8            loan        50        50    100  1.000000\n",
       "9         product        42         7     49  0.166667\n",
       "10       greeting        10        20     30  2.000000"
      ]
     },
     "metadata": {},
     "output_type": "display_data"
    }
   ],
   "source": [
    "b_and_i_tags_plotter(df, 'misspelled_requests')"
   ]
  },
  {
   "cell_type": "code",
   "execution_count": 263,
   "id": "5346206e",
   "metadata": {},
   "outputs": [
    {
     "data": {
      "image/png": "[encoded data removed]",
      "text/plain": [
       "<Figure size 1152x576 with 1 Axes>"
      ]
     },
     "metadata": {
      "needs_background": "light"
     },
     "output_type": "display_data"
    }
   ],
   "source": [
    "width = 0.5\n",
    "x = intents_df['intent'].value_counts().index.tolist()\n",
    "y = intents_df['intent'].value_counts().values.tolist()\n",
    "\n",
    "fig, ax = plt.subplots(figsize = (16, 8))\n",
    "ax.bar(x, y, width, color = 'tab:cyan');\n",
    "\n",
    "\n",
    "ax.set_ylabel('Count', fontsize = 15)\n",
    "ax.set_title('Intent counts', fontsize = 20)\n",
    "ax.tick_params(axis = 'x', labelsize = 15) # labelrotation = 30\n",
    "ax.tick_params(axis = 'y', labelsize = 15)\n",
    "\n",
    "ax.spines['top'].set_visible(False)\n",
    "ax.spines['right'].set_visible(False)\n",
    "ax.grid(color = 'g', alpha = 0.2)\n",
    "\n",
    "\n",
    "fig.savefig('misspelled_requests_intent_counts.jpg', dpi = 180)"
   ]
  },
  {
   "cell_type": "code",
   "execution_count": null,
   "id": "6fdcb29a",
   "metadata": {},
   "outputs": [],
   "source": []
  }
 ],
 "metadata": {
  "kernelspec": {
   "display_name": "Python 3 (ipykernel)",
   "language": "python",
   "name": "python3"
  },
  "language_info": {
   "codemirror_mode": {
    "name": "ipython",
    "version": 3
   },
   "file_extension": ".py",
   "mimetype": "text/x-python",
   "name": "python",
   "nbconvert_exporter": "python",
   "pygments_lexer": "ipython3",
   "version": "3.9.1"
  }
 },
 "nbformat": 4,
 "nbformat_minor": 5
}
