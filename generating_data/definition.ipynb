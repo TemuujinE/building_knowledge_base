{
 "cells": [
  {
   "cell_type": "code",
   "execution_count": 11,
   "id": "4abdd8fc",
   "metadata": {},
   "outputs": [],
   "source": [
    "import numpy as np\n",
    "import pandas as pd\n",
    "\n",
    "import matplotlib.pyplot as plt\n",
    "%matplotlib inline"
   ]
  },
  {
   "cell_type": "code",
   "execution_count": 12,
   "id": "8dff1fc5",
   "metadata": {},
   "outputs": [],
   "source": [
    "def request_constructor(not_normalized_requests, query_slot):\n",
    "    for par in range(len(not_normalized_requests)):\n",
    "        sent = not_normalized_requests[par].split()\n",
    "        try:\n",
    "            idx_slot = [idx for idx in range(len(sent)) if query_slot in sent[idx]][0]\n",
    "        except IndexError:\n",
    "            print(par)\n",
    "        \n",
    "        idx_without_colon = [idx for idx in range(len(sent)) if ':' not in sent[idx]][:-2]\n",
    "        slot = sent[idx_slot].split('-')[-1]\n",
    "\n",
    "        if len(idx_without_colon):\n",
    "            for i in range(idx_without_colon[0], idx_slot + 1):\n",
    "                if i == idx_without_colon[0]:\n",
    "                    sent[i] = sent[i] + ':B-' + slot\n",
    "                else:\n",
    "                    sent[i] = sent[i].split(':')[0] + ':I-' + slot\n",
    "\n",
    "            not_normalized_requests[par] = ' '.join(sent)\n",
    "            \n",
    "    return not_normalized_requests"
   ]
  },
  {
   "cell_type": "code",
   "execution_count": 13,
   "id": "7957539a",
   "metadata": {},
   "outputs": [],
   "source": [
    "depo_definition = []\n",
    "loan_definition = []\n",
    "card_definition = []\n",
    "channel_definition = []"
   ]
  },
  {
   "cell_type": "code",
   "execution_count": 14,
   "id": "f6170729",
   "metadata": {},
   "outputs": [],
   "source": [
    "# All depo\n",
    "depo_all = ['Үндэсний хуримтлал', 'Үндэсний хуримтлалын хөтөлбөр', 'Алтантүлхүүр', 'Алтантүлхүүр хадгаламж', \n",
    "            'Энгийн хадгаламж', 'Энгийн хугацаатай хадгаламж', 'Орлого авдаггүй хадгаламж',\n",
    "            'Орлого авдаггүй хугацаатай хадгаламж', 'Уян хадгаламж', 'Хүүхдийн мөнгө', 'Хүүхдийн мөнгөний хадгаламж',\n",
    "            'Хадгаламжын сертификат', 'Гадаадад оршин суугаа харилцагчдад зориулсан хадгаламж', \n",
    "            'Урьдчилсан хүүт хугацаатай хадгаламж', 'Хугацаатай хадгаламж', 'Хугацаагүй хадгаламж', \n",
    "            'Урьдчилсан хүүт хугацаагүй хадгаламж', 'Гибрид хадгаламж']\n",
    "# -ын\n",
    "depo_all_1 = ['Үндэсний хуримтлалын', 'Үндэсний хуримтлалын хөтөлбөрийн', 'Алтантүлхүүрийн', 'Алтантүлхүүр хадгаламжын', \n",
    "              'Энгийн хадгаламжын', 'Энгийн хугацаатай хадгаламжын', 'Орлого авдаггүй хадгаламжын',\n",
    "              'Орлого авдаггүй хугацаатай хадгаламжын', 'Уян хадгаламжын', 'Хүүхдийн мөнгөний', 'Хүүхдийн мөнгөний хадгаламжын', \n",
    "              'Хадгаламжын сертификатын', 'Гадаадад оршин суугаа харилцагчдад зориулсан хадгаламжын', \n",
    "              'Урьдчилсан хүүт хугацаатай хадгаламжын', 'Хугацаатай хадгаламжын', 'Хугацаагүй хадгаламжын', \n",
    "              'Урьдчилсан хүүт хугацаагүй хадгаламжын', 'Гибрид хадгаламжын']\n",
    "\n",
    "# -аа^4\n",
    "depo_6 = ['Үндэсний хуримтлалаа', 'Үндэсний хуримтлалын хөтөлбөрөө', 'Алтантүлхүүрээ', 'Алтантүлхүүр хадгаламжаа', \n",
    "          'Энгийн хадгаламжаа', 'Энгийн хугацаатай хадгаламжаа', 'Орлого авдаггүй хадгаламжаа', \n",
    "          'Орлого авдаггүй хугацаатай хадгаламжаа', 'Уян хадгаламжаа', 'Хүүхдийн мөнгөө', 'Хүүхдийн мөнгөний хадгаламжаа',\n",
    "          'Хадгаламжын сертификатаа', 'Гадаадад оршин суугаа харилцагчдад зориулсан хадгаламжаа', \n",
    "          'Урьдчилсан хүүт хугацаатай хадгаламжаа', 'Хугацаатай хадгаламжаа', 'Хугацаагүй хадгаламжаа', \n",
    "          'Урьдчилсан хүүт хугацаагүй хадгаламжаа', 'Гибрид хадгаламжаа']\n",
    "\n",
    "# -ынхаа, ийнхаа\n",
    "depo_7 = ['Үндэсний хуримтлалынхаа', 'Үндэсний хуримтлалын хөтөлбөрийнхөө', 'Алтантүлхүүрийнхээ', 'Алтантүлхүүр хадгаламжынхаа', \n",
    "          'Энгийн хадгаламжынхаа', 'Энгийн хугацаатай хадгаламжынхаа', 'Орлого авдаггүй хадгаламжынхаа',\n",
    "          'Орлого авдаггүй хугацаатай хадгаламжынхаа', 'Уян хадгаламжынхаа', 'Хүүхдийн мөнгөнийхөө', 'Хүүхдийн мөнгөний хадгаламжынхаа',\n",
    "          'Хадгаламжын сертификатийнхаа', 'Гадаадад оршин суугаа харилцагчдад зориулсан хадгаламжынхаа', \n",
    "          'Урьдчилсан хүүт хугацаатай хадгаламжынхаа', 'Хугацаатай хадгаламжынхаа', 'Хугацаагүй хадгаламжынхаа', \n",
    "          'Урьдчилсан хүүт хугацаагүй хадгаламжынхаа', 'Гибрид хадгаламжынхаа']"
   ]
  },
  {
   "cell_type": "code",
   "execution_count": 15,
   "id": "05b739de",
   "metadata": {},
   "outputs": [],
   "source": [
    "# All loan\n",
    "loan = ['Орон сууцны', 'Хадгаламж барьцаалсан', 'Хэрэглээний', 'Малчны', 'Тохижилтын', 'Тэтгэврийн',\n",
    "        'Тийзний', 'Цалингийн', 'Автомашины', 'Дижитал', 'Бизнесийн', 'Ногоон', 'Амины орон сууц худалдан авах',\n",
    "        'Хувийн сууц худалдан авах', 'зургаан хувийн хүүтэй', 'эргэлтийн хөрөнгийн','жижиглэн худалдааны', \n",
    "        'оффисын', 'төслийн'] + ['машины', 'байрны', 'ипотекийн', 'эргэлтийн']"
   ]
  },
  {
   "cell_type": "code",
   "execution_count": 16,
   "id": "4c1c959e",
   "metadata": {},
   "outputs": [],
   "source": [
    "all_cards = ['Зэс', 'Ган', 'Алтан', 'Алтан Кредит', 'Американ экспресс', 'Американ экспресс ногоон', \n",
    "             'Американ экспресс алтан', 'Платинум', 'Платинум виза', 'Американ экспресс ревардс', \n",
    "             'Колор', 'Оюу', 'Карбон', 'Премьер', 'Премьер вип', 'Алтан дебит']"
   ]
  },
  {
   "cell_type": "code",
   "execution_count": 17,
   "id": "5a9055ca",
   "metadata": {},
   "outputs": [],
   "source": [
    "# channels\n",
    "channel = ['интернет банк', 'смарт банк', 'сошиал пей', 'ийзи инфо', 'мобайл']\n",
    "channel_3 = ['интернет банкны', 'смарт банкны', 'сошиал пейгийн', 'ийзи инфогын', 'мобайлын']\n",
    "channel_4 = ['интернет банкаа', 'смарт банкаа', 'сошиал пей ээ', 'ийзи инфогоо', 'мобайлаа']\n",
    "channel_5 = ['интернет банкныхаа', 'смарт банкныхаа', 'сошиал пей ийнхээ', 'ийзи инфогынхээ', 'мобайлынхаа']"
   ]
  },
  {
   "cell_type": "code",
   "execution_count": 18,
   "id": "19be54e3",
   "metadata": {},
   "outputs": [
    {
     "data": {
      "text/plain": [
       "198"
      ]
     },
     "execution_count": 18,
     "metadata": {},
     "output_type": "execute_result"
    }
   ],
   "source": [
    "depo_all_samples = [\n",
    "    'SLOT:B-depo гэж:O юу:O вэ:O <=> definition',\n",
    "    'Танай:O энэ:O SLOT:B-depo гэдэг:O нь:O яадаг:B-question_type юм:O вэ:O <=> definition',\n",
    "    'Танай:O SLOT:B-depo одоо:O байгаа:O юу:O <=> definition',\n",
    "    'Танай:O дээр:O SLOT:B-depo байдаг:O уу:O <=> definition',\n",
    "]\n",
    "\n",
    "depo_all_samples_1 = [\n",
    "    'Танай:O SLOT:B-depo талаар:O хаанаас:B-question_type мэдээлэл:O авах:B-action уу:O <=> definition',\n",
    "    'Танайх:O SLOT:B-depo талаар:O хаанаа:B-question_type мэдээллээ:O оруулж:B-action байна:O <=> definition',\n",
    "]\n",
    "\n",
    "depo_samples_6 = [\n",
    "    'Надад:O SLOT:B-depo нэг:O сайн:O тайлбарлаад:B-action өгөөч:I-action <=> definition',\n",
    "]\n",
    "\n",
    "depo_samples_7 = [\n",
    "    'Надад:O SLOT:B-depo талаар:O нэг:O сайн:O тайлбарлаад:B-action өгөөч:I-action <=> definition',\n",
    "    'Би:O SLOT:B-depo талаар:O хаанаас:B-question_type мэдээлэл:O авах:B-action уу:O <=> definition',\n",
    "    'Танайх:O SLOT:B-depo талаар:O хаанаа:B-question_type мэдээллээ:O оруулж:B-action байна:O <=> definition',\n",
    "    'Танайх:O SLOT:B-depo мэдээллээ:O хаанаа:B-question_type оруулж:B-action байна:O <=> definition'\n",
    "]\n",
    "\n",
    "for word in depo_all:\n",
    "    depo_definition += [sent.replace('SLOT', word).strip() for sent in depo_all_samples]\n",
    "\n",
    "for word in depo_all_1:\n",
    "    depo_definition += [sent.replace('SLOT', word).strip() for sent in depo_all_samples_1]\n",
    "    \n",
    "for word in depo_6:\n",
    "    depo_definition += [sent.replace('SLOT', word).strip() for sent in depo_samples_6]\n",
    "    \n",
    "for word in depo_7:\n",
    "    depo_definition += [sent.replace('SLOT', word).strip() for sent in depo_samples_7]\n",
    "    \n",
    "depo_definition = list(set(depo_definition))\n",
    "\n",
    "depo_definition = request_constructor(depo_definition, 'B-depo')\n",
    "len(depo_definition)"
   ]
  },
  {
   "cell_type": "code",
   "execution_count": 19,
   "id": "589d2e63",
   "metadata": {},
   "outputs": [
    {
     "data": {
      "text/plain": [
       "253"
      ]
     },
     "execution_count": 19,
     "metadata": {},
     "output_type": "execute_result"
    }
   ],
   "source": [
    "loan_all_samples = [\n",
    "    'SLOT:B-loan зээл:O гэж:O юу:O вэ:O <=> definition',\n",
    "    'Танай:O энэ:O SLOT:B-loan зээл:O гэдэг:O нь:O яадаг:B-question_type юм:O бэ:O <=> definition',\n",
    "    'Танай:O SLOT:B-loan зээл:O одоо:O байгаа:O юу:O <=> definition',\n",
    "    'Танай:O дээр:O SLOT:B-loan зээл:O байдаг:O уу:O <=> definition',\n",
    "    'Танай:O SLOT:B-loan зээлийн:O талаар:O хаанаас:B-question_type мэдээлэл:O авах:B-action уу:O <=> definition',\n",
    "    'Танайх:O SLOT:B-loan зээлийн:O талаар:O хаанаа:B-question_type мэдээллээ:O оруулж:B-action байна:O <=> definition',\n",
    "    'Надад:O SLOT:B-loan зээлээ:O нэг:O сайн:O тайлбарлаад:B-action өгөөч:I-action <=> definition',\n",
    "    'Надад:O SLOT:B-loan зээлийнхээ:O талаар:O нэг:O сайн:O тайлбарлаад:B-action өгөөч:I-action <=> definition',\n",
    "    'Би:O SLOT:B-loan зээлийнхээ:O талаар:O хаанаас:B-question_type мэдээлэл:O авах:B-action уу:O <=> definition',\n",
    "    'Танайх:O SLOT:B-loan зээлийнхээ:O талаар:O хаанаа:B-question_type мэдээллээ:O оруулж:B-action байна:O <=> definition',\n",
    "    'Танайх:O SLOT:B-loan зээлийнхээ:O мэдээллээ:O хаанаа:B-question_type оруулж:B-action байна:O <=> definition'\n",
    "]\n",
    "\n",
    "for word in loan:\n",
    "    loan_definition += [sent.replace('SLOT', word).strip() for sent in loan_all_samples]\n",
    "    \n",
    "loan_definition = list(set(loan_definition))\n",
    "\n",
    "loan_definition = request_constructor(loan_definition, 'B-loan')\n",
    "len(loan_definition)"
   ]
  },
  {
   "cell_type": "code",
   "execution_count": 20,
   "id": "c2003096",
   "metadata": {},
   "outputs": [
    {
     "data": {
      "text/plain": [
       "176"
      ]
     },
     "execution_count": 20,
     "metadata": {},
     "output_type": "execute_result"
    }
   ],
   "source": [
    "card_all_samples = [\n",
    "    'SLOT:B-card карт:O гэж:O юу:O вэ:O <=> definition',\n",
    "    'Танай:O энэ:O SLOT:B-card карт:O гэдэг:O нь:O яадаг:B-question_type юм:O вэ:O <=> definition',\n",
    "    'Танай:O SLOT:B-card карт:O одоо:O байгаа:O юу:O <=> definition',\n",
    "    'Танай:O дээр:O SLOT:B-card карт:O байдаг:O уу:O <=> definition',\n",
    "    'Танай:O SLOT:B-card картын:O талаар:O хаанаас:B-question_type мэдээлэл:O авах:B-action уу:O <=> definition',\n",
    "    'Танайх:O SLOT:B-card картын:O талаар:O хаанаа:B-question_type мэдээллээ:O оруулж:B-action байна:O <=> definition',\n",
    "    'Надад:O SLOT:B-card картаа:O нэг:O сайн:O тайлбарлаад:B-action өгөөч:I-action <=> definition',\n",
    "    'Надад:O SLOT:B-card картынхаа:O талаар:O нэг:O сайн:O тайлбарлаад:B-action өгөөч:I-action <=> definition',\n",
    "    'Би:O SLOT:B-card картынхаа:O талаар:O хаанаас:B-question_type мэдээлэл:O авах:B-action уу:O <=> definition',\n",
    "    'Танайх:O SLOT:B-card картынхаа:O талаар:O хаанаа:B-question_type мэдээллээ:O оруулж:B-action байна:O <=> definition',\n",
    "    'Танайх:O SLOT:B-card картынхаа:O мэдээллээ:O хаанаа:B-question_type оруулж:B-action байна:O <=> definition'\n",
    "]\n",
    "\n",
    "for word in all_cards:\n",
    "    card_definition += [sent.replace('SLOT', word).strip() for sent in card_all_samples]\n",
    "    \n",
    "card_definition = list(set(card_definition))\n",
    "\n",
    "card_definition = request_constructor(card_definition, 'B-card')\n",
    "len(card_definition)"
   ]
  },
  {
   "cell_type": "code",
   "execution_count": 21,
   "id": "70c7b57e",
   "metadata": {},
   "outputs": [
    {
     "data": {
      "text/plain": [
       "55"
      ]
     },
     "execution_count": 21,
     "metadata": {},
     "output_type": "execute_result"
    }
   ],
   "source": [
    "channel_all_samples = [\n",
    "    'SLOT:B-channel гэж:O юу:O вэ:O <=> definition',\n",
    "    'Танай:O энэ:O SLOT:B-channel гэдэг:O нь:O яадаг:B-question_type юм:O вэ:O <=> definition',\n",
    "    'Танай:O SLOT:B-channel одоо:O байгаа:O юу:O <=> definition',\n",
    "    'Танай:O дээр:O SLOT:B-channel байдаг:O уу:O <=> definition',\n",
    "]\n",
    "\n",
    "channel_samples_3 = [\n",
    "    'Танай:O SLOT:B-channel талаар:O хаанаас:B-question_type мэдээлэл:O авах:B-action уу:O <=> definition',\n",
    "    'Танайх:O SLOT:B-channel талаар:O хаанаа:B-question_type мэдээллээ:O оруулж:B-action байна:O <=> definition',\n",
    "]\n",
    "\n",
    "channel_samples_4 = [\n",
    "    'Надад:O SLOT:B-channel нэг:O сайн:O тайлбарлаад:B-action өгөөч:I-action <=> definition',\n",
    "]\n",
    "\n",
    "channel_samples_5 = [\n",
    "    'Надад:O SLOT:B-channel талаар:O нэг:O сайн:O тайлбарлаад:B-action өгөөч:I-action <=> definition',\n",
    "    'Би:O SLOT:B-channel талаар:O хаанаас:B-question_type мэдээлэл:O авах:B-action уу:O <=> definition',\n",
    "    'Танайх:O SLOT:B-channel талаар:O хаанаа:B-question_type мэдээллээ:O оруулж:B-action байна:O <=> definition',\n",
    "    'Танайх:O SLOT:B-channel мэдээллээ:O хаанаа:B-question_type оруулж:B-action байна:O <=> definition'\n",
    "]\n",
    "\n",
    "for word in channel:\n",
    "    channel_definition += [sent.replace('SLOT', word).strip() for sent in channel_all_samples]\n",
    "\n",
    "for word in channel_3:\n",
    "    channel_definition += [sent.replace('SLOT', word).strip() for sent in channel_samples_3]\n",
    "    \n",
    "for word in channel_4:\n",
    "    channel_definition += [sent.replace('SLOT', word).strip() for sent in channel_samples_4]\n",
    "    \n",
    "for word in channel_5:\n",
    "    channel_definition += [sent.replace('SLOT', word).strip() for sent in channel_samples_5]\n",
    "    \n",
    "channel_definition = list(set(channel_definition))\n",
    "\n",
    "channel_definition = request_constructor(channel_definition, 'B-channel')\n",
    "len(channel_definition)"
   ]
  },
  {
   "cell_type": "code",
   "execution_count": 23,
   "id": "d3b6276f",
   "metadata": {},
   "outputs": [
    {
     "data": {
      "text/plain": [
       "682"
      ]
     },
     "execution_count": 23,
     "metadata": {},
     "output_type": "execute_result"
    }
   ],
   "source": [
    "definition_requests = depo_definition + loan_definition + card_definition + channel_definition\n",
    "len(definition_requests)"
   ]
  },
  {
   "cell_type": "code",
   "execution_count": 25,
   "id": "ad78df38",
   "metadata": {},
   "outputs": [],
   "source": [
    "with open('product_definition.txt', 'w') as handle:\n",
    "    for req in definition_requests:\n",
    "        handle.write(\"%s\\n\" % req)"
   ]
  },
  {
   "cell_type": "code",
   "execution_count": null,
   "id": "2db27c3e",
   "metadata": {},
   "outputs": [],
   "source": []
  }
 ],
 "metadata": {
  "kernelspec": {
   "display_name": "Python 3 (ipykernel)",
   "language": "python",
   "name": "python3"
  },
  "language_info": {
   "codemirror_mode": {
    "name": "ipython",
    "version": 3
   },
   "file_extension": ".py",
   "mimetype": "text/x-python",
   "name": "python",
   "nbconvert_exporter": "python",
   "pygments_lexer": "ipython3",
   "version": "3.9.1"
  }
 },
 "nbformat": 4,
 "nbformat_minor": 5
}
