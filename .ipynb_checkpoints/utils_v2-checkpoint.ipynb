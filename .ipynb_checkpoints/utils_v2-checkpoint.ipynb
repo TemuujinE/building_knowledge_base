{
 "cells": [
  {
   "cell_type": "markdown",
   "id": "1edefe9c",
   "metadata": {},
   "source": [
    "# Scraper for digital bank.\n",
    "# Not finished"
   ]
  },
  {
   "cell_type": "code",
   "execution_count": 1,
   "id": "d05322a5",
   "metadata": {},
   "outputs": [],
   "source": [
    "import pandas as pd\n",
    "import numpy as np\n",
    "\n",
    "from bs4 import BeautifulSoup\n",
    "import requests\n",
    "\n",
    "import re\n",
    "import lxml\n",
    "from unicodedata import normalize"
   ]
  },
  {
   "cell_type": "code",
   "execution_count": 271,
   "id": "50c5734d",
   "metadata": {},
   "outputs": [],
   "source": [
    "digital_bank = [\n",
    "    'digital_bank',\n",
    "    ['интернет банк', 'смарт банк', 'сошиал пей', 'мобайл банк', 'ийзи инфо', 'онлайн бүртгэл'],\n",
    "    ['https://golomtbank.com/retail/digital-bank/internet-bank',\n",
    "     'https://golomtbank.com/retail/digital-bank/smart-bank',\n",
    "     'https://golomtbank.com/retail/digital-bank/socialpay',\n",
    "     'https://golomtbank.com/retail/digital-bank/mobile-bank',\n",
    "     'https://golomtbank.com/retail/digital-bank/easy-info',\n",
    "     'https://golomtbank.com/retail/digital-bank/online-registration']]\n",
    "\n",
    "linkie = digital_bank[2][2]\n",
    "product = digital_bank[0]"
   ]
  },
  {
   "cell_type": "code",
   "execution_count": 272,
   "id": "35fb5cb6",
   "metadata": {},
   "outputs": [],
   "source": [
    "html_text = requests.get(linkie).text\n",
    "soup = BeautifulSoup(html_text, 'lxml')"
   ]
  },
  {
   "cell_type": "code",
   "execution_count": 273,
   "id": "7eafad57",
   "metadata": {},
   "outputs": [],
   "source": [
    "content = soup.find('div', class_ = 'gt-page-title-container uk-container gt-element')"
   ]
  },
  {
   "cell_type": "code",
   "execution_count": 274,
   "id": "b8916a9d",
   "metadata": {},
   "outputs": [
    {
     "name": "stdout",
     "output_type": "stream",
     "text": [
      "SocialPay: Хаанаас ч, Хурдан, Хялбар SocialPay. Таны цагийг хэмнэж, санхүүгийн харилцааг хамгийн хялбараар шийдэх SocialPay үйлчилгээг танилцуулж байна.\n"
     ]
    }
   ],
   "source": [
    "product = soup.find('div', class_ = 'gt-element gt-tab')\n",
    "product.find_all('ul', class_ = 'uk-child-width-expand@s uk-tab gt-tab-large')\n",
    "\n",
    "product_name = product.find('li', class_ = 'uk-active').span.text\n",
    "about_product = content.h2.text + '. ' + content.h5.text\n",
    "\n",
    "print(product_name + ': ' + about_product)"
   ]
  },
  {
   "cell_type": "code",
   "execution_count": 277,
   "id": "859894d3",
   "metadata": {},
   "outputs": [],
   "source": [
    "temp_1 = soup.find('section', class_ = 'gt-row uk-section uk-section-xsmall vc_custom_1592535674968')\n",
    "\n",
    "if temp_1:\n",
    "    title_1 = temp_1.find('div', class_ = 'gt-element gt-heading uk-text-left title_full').h2.text\n",
    "    services = temp_1.find('ul', class_ = 'uk-list')\n",
    "    product_services = []\n",
    "\n",
    "    for i in list(services):\n",
    "        product_services.append(i.p.text.strip())\n",
    "\n",
    "    print(title_1 + ':', '\\n')\n",
    "    for s in product_services:\n",
    "        print('- ' + s)"
   ]
  },
  {
   "cell_type": "code",
   "execution_count": 279,
   "id": "2815c097",
   "metadata": {},
   "outputs": [],
   "source": [
    "temp_2 = soup.find_all('section', class_ = 'gt-row uk-section uk-section-xsmall')\n",
    "\n",
    "if temp_2:\n",
    "    temp_2 = temp_2[0]\n",
    "    title_2 = temp_2.find('div', class_ = 'gt-element gt-heading uk-text-left title_full').h2.text\n",
    "    services = temp_2.find('ul', class_ = 'uk-list')\n",
    "    online_payment = []\n",
    "\n",
    "    for i in list(services):\n",
    "        online_payment.append(i.p.text.strip())\n",
    "\n",
    "    print(title_2 + ':', '\\n')\n",
    "    for s in online_payment:\n",
    "        print('- ' + s)"
   ]
  },
  {
   "cell_type": "code",
   "execution_count": 280,
   "id": "64abab5d",
   "metadata": {},
   "outputs": [],
   "source": [
    "if temp_2:\n",
    "    temp_3 = temp_2[1]\n",
    "    title_3 = temp_3.find('div', class_ = 'gt-element gt-heading uk-text-left title_full').h2.text\n",
    "    services = temp_3.find('ul', class_ = 'uk-list')\n",
    "    other_options = []\n",
    "\n",
    "    for i in list(services):\n",
    "        other_options.append(i.p.text.strip())\n",
    "\n",
    "    print(title_3 + ':', '\\n')\n",
    "    for s in other_options:\n",
    "        print('- ' + s)"
   ]
  },
  {
   "cell_type": "code",
   "execution_count": 281,
   "id": "f70dfa30",
   "metadata": {},
   "outputs": [],
   "source": [
    "tables = soup.find_all('table')\n",
    "dfs = []\n",
    "\n",
    "for table in tables:\n",
    "    df = normalize('NFKD', table.text.strip())\n",
    "    df = pd.read_html(str(table))[0]\n",
    "    df = df.dropna(axis = 1, how = 'all')\n",
    "    df.columns = ['col_'+str(i+1) for i in range(df.shape[1])]\n",
    "    # '-' here is in some other format \n",
    "    df = df.replace(['–'], '-')\n",
    "    dfs.append(df)"
   ]
  },
  {
   "cell_type": "code",
   "execution_count": 282,
   "id": "df396891",
   "metadata": {},
   "outputs": [
    {
     "data": {
      "text/html": [
       "<div>\n",
       "<style scoped>\n",
       "    .dataframe tbody tr th:only-of-type {\n",
       "        vertical-align: middle;\n",
       "    }\n",
       "\n",
       "    .dataframe tbody tr th {\n",
       "        vertical-align: top;\n",
       "    }\n",
       "\n",
       "    .dataframe thead th {\n",
       "        text-align: right;\n",
       "    }\n",
       "</style>\n",
       "<table border=\"1\" class=\"dataframe\">\n",
       "  <thead>\n",
       "    <tr style=\"text-align: right;\">\n",
       "      <th></th>\n",
       "      <th>col_1</th>\n",
       "      <th>col_2</th>\n",
       "      <th>col_3</th>\n",
       "    </tr>\n",
       "  </thead>\n",
       "  <tbody>\n",
       "    <tr>\n",
       "      <th>0</th>\n",
       "      <td>App Store</td>\n",
       "      <td>Google Play</td>\n",
       "      <td>AppGallery</td>\n",
       "    </tr>\n",
       "  </tbody>\n",
       "</table>\n",
       "</div>"
      ],
      "text/plain": [
       "       col_1        col_2       col_3\n",
       "0  App Store  Google Play  AppGallery"
      ]
     },
     "metadata": {},
     "output_type": "display_data"
    },
    {
     "data": {
      "text/html": [
       "<div>\n",
       "<style scoped>\n",
       "    .dataframe tbody tr th:only-of-type {\n",
       "        vertical-align: middle;\n",
       "    }\n",
       "\n",
       "    .dataframe tbody tr th {\n",
       "        vertical-align: top;\n",
       "    }\n",
       "\n",
       "    .dataframe thead th {\n",
       "        text-align: right;\n",
       "    }\n",
       "</style>\n",
       "<table border=\"1\" class=\"dataframe\">\n",
       "  <thead>\n",
       "    <tr style=\"text-align: right;\">\n",
       "      <th></th>\n",
       "      <th>col_1</th>\n",
       "      <th>col_2</th>\n",
       "    </tr>\n",
       "  </thead>\n",
       "  <tbody>\n",
       "    <tr>\n",
       "      <th>0</th>\n",
       "      <td>Үйлчилгээний хураамж</td>\n",
       "      <td>0 төгрөг</td>\n",
       "    </tr>\n",
       "    <tr>\n",
       "      <th>1</th>\n",
       "      <td>Гүйлгээний шимтгэл</td>\n",
       "      <td>0 төгрөг</td>\n",
       "    </tr>\n",
       "    <tr>\n",
       "      <th>2</th>\n",
       "      <td>Өдрийн гүйлгээний лимит</td>\n",
       "      <td>1,000,000 төгрөг Хэрэв онлайнаар харилцагчаар ...</td>\n",
       "    </tr>\n",
       "    <tr>\n",
       "      <th>3</th>\n",
       "      <td>1 удаа гүйлгээ хийх доод лимит</td>\n",
       "      <td>100 төгрөг</td>\n",
       "    </tr>\n",
       "    <tr>\n",
       "      <th>4</th>\n",
       "      <td>Гүйлгээний нууцлал</td>\n",
       "      <td>4 оронтой нууц үг, хурууны хээ</td>\n",
       "    </tr>\n",
       "    <tr>\n",
       "      <th>5</th>\n",
       "      <td>Ажиллах горим</td>\n",
       "      <td>24/7</td>\n",
       "    </tr>\n",
       "  </tbody>\n",
       "</table>\n",
       "</div>"
      ],
      "text/plain": [
       "                            col_1  \\\n",
       "0            Үйлчилгээний хураамж   \n",
       "1              Гүйлгээний шимтгэл   \n",
       "2         Өдрийн гүйлгээний лимит   \n",
       "3  1 удаа гүйлгээ хийх доод лимит   \n",
       "4              Гүйлгээний нууцлал   \n",
       "5                   Ажиллах горим   \n",
       "\n",
       "                                               col_2  \n",
       "0                                           0 төгрөг  \n",
       "1                                           0 төгрөг  \n",
       "2  1,000,000 төгрөг Хэрэв онлайнаар харилцагчаар ...  \n",
       "3                                         100 төгрөг  \n",
       "4                     4 оронтой нууц үг, хурууны хээ  \n",
       "5                                               24/7  "
      ]
     },
     "metadata": {},
     "output_type": "display_data"
    }
   ],
   "source": [
    "for df in dfs:\n",
    "    display(df)"
   ]
  },
  {
   "cell_type": "code",
   "execution_count": 294,
   "id": "f2e78e5e",
   "metadata": {},
   "outputs": [
    {
     "name": "stdout",
     "output_type": "stream",
     "text": [
      "1\n"
     ]
    }
   ],
   "source": [
    "tempp = soup.find_all('div', class_ = 'uk-table uk-table-striped uk-table-responsive')\n",
    "print(len(tempp))"
   ]
  },
  {
   "cell_type": "code",
   "execution_count": 265,
   "id": "7c9633a1",
   "metadata": {},
   "outputs": [
    {
     "data": {
      "text/plain": [
       "['Гадаадад болон Монгол Улсад оршин суугаа иргэд банкны салбарт очилгүйгээр онлайнаар интернэт банканд бүртгүүлж, шинээр харилцагч болох, данс нээх болон бусад олон төрлийн бүтээгдэхүүн үйлчилгээг хялбар, шуурхай авах боломжтой.',\n",
       " 'Интернэт банк, Смарт банк, SocialPay үйлчилгээний эрх нээгдэнэ',\n",
       " '',\n",
       " 'Хэрхэн бүртгүүлэх вэ?',\n",
       " 'Монголд байгаа иргэн:',\n",
       " 'Гадаадад байгаа иргэн:',\n",
       " 'Шуудангаар материал хүлээн авах хаяг: Голомт банкны Төв байр, Д.Сүхбаатарын талбай 5, Ш/х-22, Улаанбаатар 15160, Монгол улс']"
      ]
     },
     "execution_count": 265,
     "metadata": {},
     "output_type": "execute_result"
    }
   ],
   "source": [
    "[normalize('NFKD', i.text.strip()) for i in tempp.find_all('p')]"
   ]
  },
  {
   "cell_type": "code",
   "execution_count": 266,
   "id": "65470efc",
   "metadata": {},
   "outputs": [
    {
     "name": "stdout",
     "output_type": "stream",
     "text": [
      "Egolomt.mn вэб хуудсаар нэвтрэн “БҮРТГҮҮЛЭХ” товч дээр дарж бүртгүүлнэ. \n",
      "\n",
      "Онлайнаар бүртгүүлснээс хойш 3 сарын дотор өөрт ойр Голомт банкны салбарт хандан үйлчилгээний гэрээг нэг удаа байгуулах шаардлагатайг анхаарна уу. \n",
      "\n",
      "Egolomt.mn вэб хуудсаар нэвтрэн “БҮРТГҮҮЛЭХ” товч дээр дарж бүртгүүлнэ. \n",
      "\n",
      "Хэрэв та гадаадад байгаа бол онлайнаар бүртгүүлснээс хойш 3 сарын дотор доорх материалуудыг шуудангаар илгээх эсвэл итгэмжлэлээр салбарт гэрээ байгуулах шаардлагатайг анхаарна уу. \n",
      "\n",
      "Шуудангаар доорх материалуудыг илгээхдээ МУЭСЯ болон Консулын газрын нотариатчийн үүргийг гүйцэтгэх эрх бүхий албан тушаалтнаар гэрчлүүлэн илгээнэ. МУЭСЯ болон Консулын газар байхгүй бол тухайн улсын нотариатаар гэрчлүүлэн, Апостил гэрчилгээний хамт шуудангаар илгээнэ. Үүнд: \n",
      "\n"
     ]
    }
   ],
   "source": [
    "for i in tempp.find_all('ol'):\n",
    "    for j in i.find_all('li'):\n",
    "        print(j.text, '\\n')"
   ]
  },
  {
   "cell_type": "code",
   "execution_count": 267,
   "id": "de862055",
   "metadata": {},
   "outputs": [
    {
     "data": {
      "text/plain": [
       "['Бичиг баримтын хуулбар',\n",
       " 'Банкны бүтээгдэхүүн үйлчилгээ үзүүлэх ерөнхий гэрээ /татаж авах/',\n",
       " 'Дижитал банкны бүтээгдэхүүн, үйлчилгээний гэрээ /татаж авах/',\n",
       " 'Харилцагчаар бүртгүүлэх анкет – Иргэн /татаж авах/']"
      ]
     },
     "execution_count": 267,
     "metadata": {},
     "output_type": "execute_result"
    }
   ],
   "source": [
    "[i.text for i in tempp.find_all('ul')[-1].find_all('li')]"
   ]
  },
  {
   "cell_type": "code",
   "execution_count": null,
   "id": "d1d03bb7",
   "metadata": {},
   "outputs": [],
   "source": []
  }
 ],
 "metadata": {
  "kernelspec": {
   "display_name": "Python 3 (ipykernel)",
   "language": "python",
   "name": "python3"
  },
  "language_info": {
   "codemirror_mode": {
    "name": "ipython",
    "version": 3
   },
   "file_extension": ".py",
   "mimetype": "text/x-python",
   "name": "python",
   "nbconvert_exporter": "python",
   "pygments_lexer": "ipython3",
   "version": "3.9.1"
  }
 },
 "nbformat": 4,
 "nbformat_minor": 5
}
